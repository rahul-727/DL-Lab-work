{
  "nbformat": 4,
  "nbformat_minor": 0,
  "metadata": {
    "colab": {
      "provenance": [],
      "gpuType": "T4",
      "authorship_tag": "ABX9TyMY6jDztNj6srgK67+98gZ7",
      "include_colab_link": true
    },
    "kernelspec": {
      "name": "python3",
      "display_name": "Python 3"
    },
    "language_info": {
      "name": "python"
    },
    "accelerator": "GPU"
  },
  "cells": [
    {
      "cell_type": "markdown",
      "metadata": {
        "id": "view-in-github",
        "colab_type": "text"
      },
      "source": [
        "<a href=\"https://colab.research.google.com/github/rahul-727/DL-Lab-work/blob/main/2348544_Lab_4_DL.ipynb\" target=\"_parent\"><img src=\"https://colab.research.google.com/assets/colab-badge.svg\" alt=\"Open In Colab\"/></a>"
      ]
    },
    {
      "cell_type": "code",
      "execution_count": 32,
      "metadata": {
        "id": "x3yK2q6l3prO"
      },
      "outputs": [],
      "source": [
        "import pandas as pd\n",
        "from sklearn.model_selection import train_test_split\n",
        "from sklearn.preprocessing import StandardScaler, OneHotEncoder\n",
        "from sklearn.compose import ColumnTransformer\n",
        "from sklearn.pipeline import Pipeline\n",
        "import numpy as np\n",
        "from sklearn.metrics import accuracy_score, f1_score, roc_auc_score"
      ]
    },
    {
      "cell_type": "code",
      "source": [
        "df = pd.read_csv('/content/dl5.csv')\n",
        "df.head(5)"
      ],
      "metadata": {
        "colab": {
          "base_uri": "https://localhost:8080/",
          "height": 261
        },
        "id": "BIIKHGDV3xs8",
        "outputId": "ae39e530-c861-4090-835d-cc003f8b6c9e"
      },
      "execution_count": 33,
      "outputs": [
        {
          "output_type": "execute_result",
          "data": {
            "text/plain": [
              "  State  Account length  Area code International plan Voice mail plan  \\\n",
              "0    LA             117        408                 No              No   \n",
              "1    IN              65        415                 No              No   \n",
              "2    NY             161        415                 No              No   \n",
              "3    SC             111        415                 No              No   \n",
              "4    HI              49        510                 No              No   \n",
              "\n",
              "   Number vmail messages  Total day minutes  Total day calls  \\\n",
              "0                      0              184.5               97   \n",
              "1                      0              129.1              137   \n",
              "2                      0              332.9               67   \n",
              "3                      0              110.4              103   \n",
              "4                      0              119.3              117   \n",
              "\n",
              "   Total day charge  Total eve minutes  Total eve calls  Total eve charge  \\\n",
              "0             31.37              351.6               80             29.89   \n",
              "1             21.95              228.5               83             19.42   \n",
              "2             56.59              317.8               97             27.01   \n",
              "3             18.77              137.3              102             11.67   \n",
              "4             20.28              215.1              109             18.28   \n",
              "\n",
              "   Total night minutes  Total night calls  Total night charge  \\\n",
              "0                215.8                 90                9.71   \n",
              "1                208.8                111                9.40   \n",
              "2                160.6                128                7.23   \n",
              "3                189.6                105                8.53   \n",
              "4                178.7                 90                8.04   \n",
              "\n",
              "   Total intl minutes  Total intl calls  Total intl charge  \\\n",
              "0                 8.7                 4               2.35   \n",
              "1                12.7                 6               3.43   \n",
              "2                 5.4                 9               1.46   \n",
              "3                 7.7                 6               2.08   \n",
              "4                11.1                 1               3.00   \n",
              "\n",
              "   Customer service calls  Churn  \n",
              "0                       1  False  \n",
              "1                       4   True  \n",
              "2                       4   True  \n",
              "3                       2  False  \n",
              "4                       1  False  "
            ],
            "text/html": [
              "\n",
              "  <div id=\"df-5446e971-f92a-45db-87b6-4e8e501a1da2\" class=\"colab-df-container\">\n",
              "    <div>\n",
              "<style scoped>\n",
              "    .dataframe tbody tr th:only-of-type {\n",
              "        vertical-align: middle;\n",
              "    }\n",
              "\n",
              "    .dataframe tbody tr th {\n",
              "        vertical-align: top;\n",
              "    }\n",
              "\n",
              "    .dataframe thead th {\n",
              "        text-align: right;\n",
              "    }\n",
              "</style>\n",
              "<table border=\"1\" class=\"dataframe\">\n",
              "  <thead>\n",
              "    <tr style=\"text-align: right;\">\n",
              "      <th></th>\n",
              "      <th>State</th>\n",
              "      <th>Account length</th>\n",
              "      <th>Area code</th>\n",
              "      <th>International plan</th>\n",
              "      <th>Voice mail plan</th>\n",
              "      <th>Number vmail messages</th>\n",
              "      <th>Total day minutes</th>\n",
              "      <th>Total day calls</th>\n",
              "      <th>Total day charge</th>\n",
              "      <th>Total eve minutes</th>\n",
              "      <th>Total eve calls</th>\n",
              "      <th>Total eve charge</th>\n",
              "      <th>Total night minutes</th>\n",
              "      <th>Total night calls</th>\n",
              "      <th>Total night charge</th>\n",
              "      <th>Total intl minutes</th>\n",
              "      <th>Total intl calls</th>\n",
              "      <th>Total intl charge</th>\n",
              "      <th>Customer service calls</th>\n",
              "      <th>Churn</th>\n",
              "    </tr>\n",
              "  </thead>\n",
              "  <tbody>\n",
              "    <tr>\n",
              "      <th>0</th>\n",
              "      <td>LA</td>\n",
              "      <td>117</td>\n",
              "      <td>408</td>\n",
              "      <td>No</td>\n",
              "      <td>No</td>\n",
              "      <td>0</td>\n",
              "      <td>184.5</td>\n",
              "      <td>97</td>\n",
              "      <td>31.37</td>\n",
              "      <td>351.6</td>\n",
              "      <td>80</td>\n",
              "      <td>29.89</td>\n",
              "      <td>215.8</td>\n",
              "      <td>90</td>\n",
              "      <td>9.71</td>\n",
              "      <td>8.7</td>\n",
              "      <td>4</td>\n",
              "      <td>2.35</td>\n",
              "      <td>1</td>\n",
              "      <td>False</td>\n",
              "    </tr>\n",
              "    <tr>\n",
              "      <th>1</th>\n",
              "      <td>IN</td>\n",
              "      <td>65</td>\n",
              "      <td>415</td>\n",
              "      <td>No</td>\n",
              "      <td>No</td>\n",
              "      <td>0</td>\n",
              "      <td>129.1</td>\n",
              "      <td>137</td>\n",
              "      <td>21.95</td>\n",
              "      <td>228.5</td>\n",
              "      <td>83</td>\n",
              "      <td>19.42</td>\n",
              "      <td>208.8</td>\n",
              "      <td>111</td>\n",
              "      <td>9.40</td>\n",
              "      <td>12.7</td>\n",
              "      <td>6</td>\n",
              "      <td>3.43</td>\n",
              "      <td>4</td>\n",
              "      <td>True</td>\n",
              "    </tr>\n",
              "    <tr>\n",
              "      <th>2</th>\n",
              "      <td>NY</td>\n",
              "      <td>161</td>\n",
              "      <td>415</td>\n",
              "      <td>No</td>\n",
              "      <td>No</td>\n",
              "      <td>0</td>\n",
              "      <td>332.9</td>\n",
              "      <td>67</td>\n",
              "      <td>56.59</td>\n",
              "      <td>317.8</td>\n",
              "      <td>97</td>\n",
              "      <td>27.01</td>\n",
              "      <td>160.6</td>\n",
              "      <td>128</td>\n",
              "      <td>7.23</td>\n",
              "      <td>5.4</td>\n",
              "      <td>9</td>\n",
              "      <td>1.46</td>\n",
              "      <td>4</td>\n",
              "      <td>True</td>\n",
              "    </tr>\n",
              "    <tr>\n",
              "      <th>3</th>\n",
              "      <td>SC</td>\n",
              "      <td>111</td>\n",
              "      <td>415</td>\n",
              "      <td>No</td>\n",
              "      <td>No</td>\n",
              "      <td>0</td>\n",
              "      <td>110.4</td>\n",
              "      <td>103</td>\n",
              "      <td>18.77</td>\n",
              "      <td>137.3</td>\n",
              "      <td>102</td>\n",
              "      <td>11.67</td>\n",
              "      <td>189.6</td>\n",
              "      <td>105</td>\n",
              "      <td>8.53</td>\n",
              "      <td>7.7</td>\n",
              "      <td>6</td>\n",
              "      <td>2.08</td>\n",
              "      <td>2</td>\n",
              "      <td>False</td>\n",
              "    </tr>\n",
              "    <tr>\n",
              "      <th>4</th>\n",
              "      <td>HI</td>\n",
              "      <td>49</td>\n",
              "      <td>510</td>\n",
              "      <td>No</td>\n",
              "      <td>No</td>\n",
              "      <td>0</td>\n",
              "      <td>119.3</td>\n",
              "      <td>117</td>\n",
              "      <td>20.28</td>\n",
              "      <td>215.1</td>\n",
              "      <td>109</td>\n",
              "      <td>18.28</td>\n",
              "      <td>178.7</td>\n",
              "      <td>90</td>\n",
              "      <td>8.04</td>\n",
              "      <td>11.1</td>\n",
              "      <td>1</td>\n",
              "      <td>3.00</td>\n",
              "      <td>1</td>\n",
              "      <td>False</td>\n",
              "    </tr>\n",
              "  </tbody>\n",
              "</table>\n",
              "</div>\n",
              "    <div class=\"colab-df-buttons\">\n",
              "\n",
              "  <div class=\"colab-df-container\">\n",
              "    <button class=\"colab-df-convert\" onclick=\"convertToInteractive('df-5446e971-f92a-45db-87b6-4e8e501a1da2')\"\n",
              "            title=\"Convert this dataframe to an interactive table.\"\n",
              "            style=\"display:none;\">\n",
              "\n",
              "  <svg xmlns=\"http://www.w3.org/2000/svg\" height=\"24px\" viewBox=\"0 -960 960 960\">\n",
              "    <path d=\"M120-120v-720h720v720H120Zm60-500h600v-160H180v160Zm220 220h160v-160H400v160Zm0 220h160v-160H400v160ZM180-400h160v-160H180v160Zm440 0h160v-160H620v160ZM180-180h160v-160H180v160Zm440 0h160v-160H620v160Z\"/>\n",
              "  </svg>\n",
              "    </button>\n",
              "\n",
              "  <style>\n",
              "    .colab-df-container {\n",
              "      display:flex;\n",
              "      gap: 12px;\n",
              "    }\n",
              "\n",
              "    .colab-df-convert {\n",
              "      background-color: #E8F0FE;\n",
              "      border: none;\n",
              "      border-radius: 50%;\n",
              "      cursor: pointer;\n",
              "      display: none;\n",
              "      fill: #1967D2;\n",
              "      height: 32px;\n",
              "      padding: 0 0 0 0;\n",
              "      width: 32px;\n",
              "    }\n",
              "\n",
              "    .colab-df-convert:hover {\n",
              "      background-color: #E2EBFA;\n",
              "      box-shadow: 0px 1px 2px rgba(60, 64, 67, 0.3), 0px 1px 3px 1px rgba(60, 64, 67, 0.15);\n",
              "      fill: #174EA6;\n",
              "    }\n",
              "\n",
              "    .colab-df-buttons div {\n",
              "      margin-bottom: 4px;\n",
              "    }\n",
              "\n",
              "    [theme=dark] .colab-df-convert {\n",
              "      background-color: #3B4455;\n",
              "      fill: #D2E3FC;\n",
              "    }\n",
              "\n",
              "    [theme=dark] .colab-df-convert:hover {\n",
              "      background-color: #434B5C;\n",
              "      box-shadow: 0px 1px 3px 1px rgba(0, 0, 0, 0.15);\n",
              "      filter: drop-shadow(0px 1px 2px rgba(0, 0, 0, 0.3));\n",
              "      fill: #FFFFFF;\n",
              "    }\n",
              "  </style>\n",
              "\n",
              "    <script>\n",
              "      const buttonEl =\n",
              "        document.querySelector('#df-5446e971-f92a-45db-87b6-4e8e501a1da2 button.colab-df-convert');\n",
              "      buttonEl.style.display =\n",
              "        google.colab.kernel.accessAllowed ? 'block' : 'none';\n",
              "\n",
              "      async function convertToInteractive(key) {\n",
              "        const element = document.querySelector('#df-5446e971-f92a-45db-87b6-4e8e501a1da2');\n",
              "        const dataTable =\n",
              "          await google.colab.kernel.invokeFunction('convertToInteractive',\n",
              "                                                    [key], {});\n",
              "        if (!dataTable) return;\n",
              "\n",
              "        const docLinkHtml = 'Like what you see? Visit the ' +\n",
              "          '<a target=\"_blank\" href=https://colab.research.google.com/notebooks/data_table.ipynb>data table notebook</a>'\n",
              "          + ' to learn more about interactive tables.';\n",
              "        element.innerHTML = '';\n",
              "        dataTable['output_type'] = 'display_data';\n",
              "        await google.colab.output.renderOutput(dataTable, element);\n",
              "        const docLink = document.createElement('div');\n",
              "        docLink.innerHTML = docLinkHtml;\n",
              "        element.appendChild(docLink);\n",
              "      }\n",
              "    </script>\n",
              "  </div>\n",
              "\n",
              "\n",
              "<div id=\"df-7a75dc3f-c6bc-47ca-9f6b-5a0e7ff71a72\">\n",
              "  <button class=\"colab-df-quickchart\" onclick=\"quickchart('df-7a75dc3f-c6bc-47ca-9f6b-5a0e7ff71a72')\"\n",
              "            title=\"Suggest charts\"\n",
              "            style=\"display:none;\">\n",
              "\n",
              "<svg xmlns=\"http://www.w3.org/2000/svg\" height=\"24px\"viewBox=\"0 0 24 24\"\n",
              "     width=\"24px\">\n",
              "    <g>\n",
              "        <path d=\"M19 3H5c-1.1 0-2 .9-2 2v14c0 1.1.9 2 2 2h14c1.1 0 2-.9 2-2V5c0-1.1-.9-2-2-2zM9 17H7v-7h2v7zm4 0h-2V7h2v10zm4 0h-2v-4h2v4z\"/>\n",
              "    </g>\n",
              "</svg>\n",
              "  </button>\n",
              "\n",
              "<style>\n",
              "  .colab-df-quickchart {\n",
              "      --bg-color: #E8F0FE;\n",
              "      --fill-color: #1967D2;\n",
              "      --hover-bg-color: #E2EBFA;\n",
              "      --hover-fill-color: #174EA6;\n",
              "      --disabled-fill-color: #AAA;\n",
              "      --disabled-bg-color: #DDD;\n",
              "  }\n",
              "\n",
              "  [theme=dark] .colab-df-quickchart {\n",
              "      --bg-color: #3B4455;\n",
              "      --fill-color: #D2E3FC;\n",
              "      --hover-bg-color: #434B5C;\n",
              "      --hover-fill-color: #FFFFFF;\n",
              "      --disabled-bg-color: #3B4455;\n",
              "      --disabled-fill-color: #666;\n",
              "  }\n",
              "\n",
              "  .colab-df-quickchart {\n",
              "    background-color: var(--bg-color);\n",
              "    border: none;\n",
              "    border-radius: 50%;\n",
              "    cursor: pointer;\n",
              "    display: none;\n",
              "    fill: var(--fill-color);\n",
              "    height: 32px;\n",
              "    padding: 0;\n",
              "    width: 32px;\n",
              "  }\n",
              "\n",
              "  .colab-df-quickchart:hover {\n",
              "    background-color: var(--hover-bg-color);\n",
              "    box-shadow: 0 1px 2px rgba(60, 64, 67, 0.3), 0 1px 3px 1px rgba(60, 64, 67, 0.15);\n",
              "    fill: var(--button-hover-fill-color);\n",
              "  }\n",
              "\n",
              "  .colab-df-quickchart-complete:disabled,\n",
              "  .colab-df-quickchart-complete:disabled:hover {\n",
              "    background-color: var(--disabled-bg-color);\n",
              "    fill: var(--disabled-fill-color);\n",
              "    box-shadow: none;\n",
              "  }\n",
              "\n",
              "  .colab-df-spinner {\n",
              "    border: 2px solid var(--fill-color);\n",
              "    border-color: transparent;\n",
              "    border-bottom-color: var(--fill-color);\n",
              "    animation:\n",
              "      spin 1s steps(1) infinite;\n",
              "  }\n",
              "\n",
              "  @keyframes spin {\n",
              "    0% {\n",
              "      border-color: transparent;\n",
              "      border-bottom-color: var(--fill-color);\n",
              "      border-left-color: var(--fill-color);\n",
              "    }\n",
              "    20% {\n",
              "      border-color: transparent;\n",
              "      border-left-color: var(--fill-color);\n",
              "      border-top-color: var(--fill-color);\n",
              "    }\n",
              "    30% {\n",
              "      border-color: transparent;\n",
              "      border-left-color: var(--fill-color);\n",
              "      border-top-color: var(--fill-color);\n",
              "      border-right-color: var(--fill-color);\n",
              "    }\n",
              "    40% {\n",
              "      border-color: transparent;\n",
              "      border-right-color: var(--fill-color);\n",
              "      border-top-color: var(--fill-color);\n",
              "    }\n",
              "    60% {\n",
              "      border-color: transparent;\n",
              "      border-right-color: var(--fill-color);\n",
              "    }\n",
              "    80% {\n",
              "      border-color: transparent;\n",
              "      border-right-color: var(--fill-color);\n",
              "      border-bottom-color: var(--fill-color);\n",
              "    }\n",
              "    90% {\n",
              "      border-color: transparent;\n",
              "      border-bottom-color: var(--fill-color);\n",
              "    }\n",
              "  }\n",
              "</style>\n",
              "\n",
              "  <script>\n",
              "    async function quickchart(key) {\n",
              "      const quickchartButtonEl =\n",
              "        document.querySelector('#' + key + ' button');\n",
              "      quickchartButtonEl.disabled = true;  // To prevent multiple clicks.\n",
              "      quickchartButtonEl.classList.add('colab-df-spinner');\n",
              "      try {\n",
              "        const charts = await google.colab.kernel.invokeFunction(\n",
              "            'suggestCharts', [key], {});\n",
              "      } catch (error) {\n",
              "        console.error('Error during call to suggestCharts:', error);\n",
              "      }\n",
              "      quickchartButtonEl.classList.remove('colab-df-spinner');\n",
              "      quickchartButtonEl.classList.add('colab-df-quickchart-complete');\n",
              "    }\n",
              "    (() => {\n",
              "      let quickchartButtonEl =\n",
              "        document.querySelector('#df-7a75dc3f-c6bc-47ca-9f6b-5a0e7ff71a72 button');\n",
              "      quickchartButtonEl.style.display =\n",
              "        google.colab.kernel.accessAllowed ? 'block' : 'none';\n",
              "    })();\n",
              "  </script>\n",
              "</div>\n",
              "    </div>\n",
              "  </div>\n"
            ],
            "application/vnd.google.colaboratory.intrinsic+json": {
              "type": "dataframe",
              "variable_name": "df",
              "summary": "{\n  \"name\": \"df\",\n  \"rows\": 667,\n  \"fields\": [\n    {\n      \"column\": \"State\",\n      \"properties\": {\n        \"dtype\": \"category\",\n        \"num_unique_values\": 51,\n        \"samples\": [\n          \"MD\",\n          \"ME\",\n          \"ND\"\n        ],\n        \"semantic_type\": \"\",\n        \"description\": \"\"\n      }\n    },\n    {\n      \"column\": \"Account length\",\n      \"properties\": {\n        \"dtype\": \"number\",\n        \"std\": 40,\n        \"min\": 1,\n        \"max\": 232,\n        \"num_unique_values\": 179,\n        \"samples\": [\n          39,\n          108,\n          55\n        ],\n        \"semantic_type\": \"\",\n        \"description\": \"\"\n      }\n    },\n    {\n      \"column\": \"Area code\",\n      \"properties\": {\n        \"dtype\": \"number\",\n        \"std\": 41,\n        \"min\": 408,\n        \"max\": 510,\n        \"num_unique_values\": 3,\n        \"samples\": [\n          408,\n          415,\n          510\n        ],\n        \"semantic_type\": \"\",\n        \"description\": \"\"\n      }\n    },\n    {\n      \"column\": \"International plan\",\n      \"properties\": {\n        \"dtype\": \"category\",\n        \"num_unique_values\": 2,\n        \"samples\": [\n          \"Yes\",\n          \"No\"\n        ],\n        \"semantic_type\": \"\",\n        \"description\": \"\"\n      }\n    },\n    {\n      \"column\": \"Voice mail plan\",\n      \"properties\": {\n        \"dtype\": \"category\",\n        \"num_unique_values\": 2,\n        \"samples\": [\n          \"Yes\",\n          \"No\"\n        ],\n        \"semantic_type\": \"\",\n        \"description\": \"\"\n      }\n    },\n    {\n      \"column\": \"Number vmail messages\",\n      \"properties\": {\n        \"dtype\": \"number\",\n        \"std\": 13,\n        \"min\": 0,\n        \"max\": 51,\n        \"num_unique_values\": 37,\n        \"samples\": [\n          20,\n          35\n        ],\n        \"semantic_type\": \"\",\n        \"description\": \"\"\n      }\n    },\n    {\n      \"column\": \"Total day minutes\",\n      \"properties\": {\n        \"dtype\": \"number\",\n        \"std\": 55.508627757238095,\n        \"min\": 25.9,\n        \"max\": 334.3,\n        \"num_unique_values\": 562,\n        \"samples\": [\n          80.3,\n          205.9\n        ],\n        \"semantic_type\": \"\",\n        \"description\": \"\"\n      }\n    },\n    {\n      \"column\": \"Total day calls\",\n      \"properties\": {\n        \"dtype\": \"number\",\n        \"std\": 20,\n        \"min\": 30,\n        \"max\": 165,\n        \"num_unique_values\": 100,\n        \"samples\": [\n          145,\n          122\n        ],\n        \"semantic_type\": \"\",\n        \"description\": \"\"\n      }\n    },\n    {\n      \"column\": \"Total day charge\",\n      \"properties\": {\n        \"dtype\": \"number\",\n        \"std\": 9.436463453602565,\n        \"min\": 4.4,\n        \"max\": 56.83,\n        \"num_unique_values\": 562,\n        \"samples\": [\n          13.65,\n          35.0\n        ],\n        \"semantic_type\": \"\",\n        \"description\": \"\"\n      }\n    },\n    {\n      \"column\": \"Total eve minutes\",\n      \"properties\": {\n        \"dtype\": \"number\",\n        \"std\": 49.71926848382941,\n        \"min\": 48.1,\n        \"max\": 361.8,\n        \"num_unique_values\": 557,\n        \"samples\": [\n          166.9,\n          222.9\n        ],\n        \"semantic_type\": \"\",\n        \"description\": \"\"\n      }\n    },\n    {\n      \"column\": \"Total eve calls\",\n      \"properties\": {\n        \"dtype\": \"number\",\n        \"std\": 18,\n        \"min\": 37,\n        \"max\": 168,\n        \"num_unique_values\": 94,\n        \"samples\": [\n          69,\n          90\n        ],\n        \"semantic_type\": \"\",\n        \"description\": \"\"\n      }\n    },\n    {\n      \"column\": \"Total eve charge\",\n      \"properties\": {\n        \"dtype\": \"number\",\n        \"std\": 4.226160133395479,\n        \"min\": 4.09,\n        \"max\": 30.75,\n        \"num_unique_values\": 528,\n        \"samples\": [\n          16.76,\n          23.42\n        ],\n        \"semantic_type\": \"\",\n        \"description\": \"\"\n      }\n    },\n    {\n      \"column\": \"Total night minutes\",\n      \"properties\": {\n        \"dtype\": \"number\",\n        \"std\": 49.7599308151923,\n        \"min\": 23.2,\n        \"max\": 367.7,\n        \"num_unique_values\": 568,\n        \"samples\": [\n          229.9,\n          209.3\n        ],\n        \"semantic_type\": \"\",\n        \"description\": \"\"\n      }\n    },\n    {\n      \"column\": \"Total night calls\",\n      \"properties\": {\n        \"dtype\": \"number\",\n        \"std\": 20,\n        \"min\": 42,\n        \"max\": 175,\n        \"num_unique_values\": 96,\n        \"samples\": [\n          73,\n          155\n        ],\n        \"semantic_type\": \"\",\n        \"description\": \"\"\n      }\n    },\n    {\n      \"column\": \"Total night charge\",\n      \"properties\": {\n        \"dtype\": \"number\",\n        \"std\": 2.239428996772818,\n        \"min\": 1.04,\n        \"max\": 16.55,\n        \"num_unique_values\": 453,\n        \"samples\": [\n          10.44,\n          8.71\n        ],\n        \"semantic_type\": \"\",\n        \"description\": \"\"\n      }\n    },\n    {\n      \"column\": \"Total intl minutes\",\n      \"properties\": {\n        \"dtype\": \"number\",\n        \"std\": 2.807849746177429,\n        \"min\": 0.0,\n        \"max\": 18.3,\n        \"num_unique_values\": 132,\n        \"samples\": [\n          14.3,\n          15.1\n        ],\n        \"semantic_type\": \"\",\n        \"description\": \"\"\n      }\n    },\n    {\n      \"column\": \"Total intl calls\",\n      \"properties\": {\n        \"dtype\": \"number\",\n        \"std\": 2,\n        \"min\": 0,\n        \"max\": 18,\n        \"num_unique_values\": 17,\n        \"samples\": [\n          4,\n          6\n        ],\n        \"semantic_type\": \"\",\n        \"description\": \"\"\n      }\n    },\n    {\n      \"column\": \"Total intl charge\",\n      \"properties\": {\n        \"dtype\": \"number\",\n        \"std\": 0.758166819817248,\n        \"min\": 0.0,\n        \"max\": 4.94,\n        \"num_unique_values\": 132,\n        \"samples\": [\n          3.86,\n          4.08\n        ],\n        \"semantic_type\": \"\",\n        \"description\": \"\"\n      }\n    },\n    {\n      \"column\": \"Customer service calls\",\n      \"properties\": {\n        \"dtype\": \"number\",\n        \"std\": 1,\n        \"min\": 0,\n        \"max\": 8,\n        \"num_unique_values\": 9,\n        \"samples\": [\n          8,\n          4\n        ],\n        \"semantic_type\": \"\",\n        \"description\": \"\"\n      }\n    },\n    {\n      \"column\": \"Churn\",\n      \"properties\": {\n        \"dtype\": \"boolean\",\n        \"num_unique_values\": 2,\n        \"samples\": [\n          true,\n          false\n        ],\n        \"semantic_type\": \"\",\n        \"description\": \"\"\n      }\n    }\n  ]\n}"
            }
          },
          "metadata": {},
          "execution_count": 33
        }
      ]
    },
    {
      "cell_type": "code",
      "source": [
        "df.columns"
      ],
      "metadata": {
        "colab": {
          "base_uri": "https://localhost:8080/"
        },
        "id": "7AvYzSQr33VA",
        "outputId": "4a2b1c9a-e95d-4faf-fe91-20648fead854"
      },
      "execution_count": 34,
      "outputs": [
        {
          "output_type": "execute_result",
          "data": {
            "text/plain": [
              "Index(['State', 'Account length', 'Area code', 'International plan',\n",
              "       'Voice mail plan', 'Number vmail messages', 'Total day minutes',\n",
              "       'Total day calls', 'Total day charge', 'Total eve minutes',\n",
              "       'Total eve calls', 'Total eve charge', 'Total night minutes',\n",
              "       'Total night calls', 'Total night charge', 'Total intl minutes',\n",
              "       'Total intl calls', 'Total intl charge', 'Customer service calls',\n",
              "       'Churn'],\n",
              "      dtype='object')"
            ]
          },
          "metadata": {},
          "execution_count": 34
        }
      ]
    },
    {
      "cell_type": "code",
      "source": [
        "df.isnull().sum()"
      ],
      "metadata": {
        "colab": {
          "base_uri": "https://localhost:8080/"
        },
        "id": "PyPsKPAdBp5t",
        "outputId": "5f698f14-1045-4c84-b4dc-ab07de0a8414"
      },
      "execution_count": 35,
      "outputs": [
        {
          "output_type": "execute_result",
          "data": {
            "text/plain": [
              "State                     0\n",
              "Account length            0\n",
              "Area code                 0\n",
              "International plan        0\n",
              "Voice mail plan           0\n",
              "Number vmail messages     0\n",
              "Total day minutes         0\n",
              "Total day calls           0\n",
              "Total day charge          0\n",
              "Total eve minutes         0\n",
              "Total eve calls           0\n",
              "Total eve charge          0\n",
              "Total night minutes       0\n",
              "Total night calls         0\n",
              "Total night charge        0\n",
              "Total intl minutes        0\n",
              "Total intl calls          0\n",
              "Total intl charge         0\n",
              "Customer service calls    0\n",
              "Churn                     0\n",
              "dtype: int64"
            ]
          },
          "metadata": {},
          "execution_count": 35
        }
      ]
    },
    {
      "cell_type": "code",
      "source": [
        "df = df.drop(columns=['State'])"
      ],
      "metadata": {
        "id": "mVhN3eK79j50"
      },
      "execution_count": 36,
      "outputs": []
    },
    {
      "cell_type": "code",
      "source": [
        "from sklearn.preprocessing import LabelEncoder\n",
        "\n",
        "columns=['Voice mail plan','International plan','Churn']\n",
        "\n",
        "for i in columns:\n",
        "  encoder = LabelEncoder()\n",
        "  df[i] = encoder.fit_transform(df[i])"
      ],
      "metadata": {
        "id": "OeSdURxl9oB4"
      },
      "execution_count": 37,
      "outputs": []
    },
    {
      "cell_type": "code",
      "source": [
        "from sklearn.preprocessing import StandardScaler\n",
        "\n",
        "dataScale = df.drop(columns=['Churn'])\n",
        "for i in dataScale.columns:\n",
        "    scale = StandardScaler()\n",
        "    df[i] = scale.fit_transform(df[i].values.reshape(-1, 1))"
      ],
      "metadata": {
        "id": "FMC0E9qLDy2w"
      },
      "execution_count": 38,
      "outputs": []
    },
    {
      "cell_type": "code",
      "source": [
        "x = df.drop(columns=['Churn'])\n",
        "y = df['Churn']"
      ],
      "metadata": {
        "id": "FrLanN9O_-3i"
      },
      "execution_count": 39,
      "outputs": []
    },
    {
      "cell_type": "markdown",
      "source": [
        "Spltting data"
      ],
      "metadata": {
        "id": "Hch4y_yu7pB3"
      }
    },
    {
      "cell_type": "code",
      "source": [
        "X_train, X_val, y_train, y_val = train_test_split(x, y, test_size=0.2, random_state=42)"
      ],
      "metadata": {
        "id": "-WVbcXeQ7qzY"
      },
      "execution_count": 40,
      "outputs": []
    },
    {
      "cell_type": "markdown",
      "source": [
        "# Baseline DNN Architecture\n",
        "constructing a simple baseline DNN architecture without any dropout layers."
      ],
      "metadata": {
        "id": "1OjeWvl_7zwS"
      }
    },
    {
      "cell_type": "code",
      "source": [
        "import tensorflow as tf\n",
        "from tensorflow.keras.models import Sequential\n",
        "from tensorflow.keras.layers import Dense\n",
        "from sklearn.metrics import accuracy_score\n",
        "\n",
        "\n",
        "def baseline_model():\n",
        "    model = Sequential([\n",
        "        Dense(128, activation='relu', input_shape=(X_train.shape[1],)),\n",
        "        Dense(64, activation='relu'),\n",
        "        Dense(32, activation='relu'),\n",
        "        Dense(1, activation='sigmoid')\n",
        "    ])\n",
        "\n",
        "    model.compile(optimizer='adam',\n",
        "                  loss='binary_crossentropy',\n",
        "                  metrics=['accuracy'])\n",
        "\n",
        "    return model\n",
        "\n",
        "baseline_model = baseline_model()\n",
        "baseline_history = baseline_model.fit(X_train, y_train, validation_data=(X_val, y_val), epochs=10, batch_size=32)\n",
        "\n",
        "baseline_model.evaluate(X_val, y_val)\n",
        "\n",
        "baseline_predictions = baseline_model.predict(X_val)\n",
        "baseline_pred_labels = (baseline_predictions > 0.5).astype(int)\n",
        "\n",
        "baseline_accuracy = accuracy_score(y_val, baseline_pred_labels)\n",
        "print(f'Baseline Model Accuracy: {baseline_accuracy}')\n",
        "\n",
        "baseline_f1_score = f1_score(y_val, baseline_pred_labels)\n",
        "print(f'Baseline Model F1 Score: {baseline_f1_score}')\n",
        "\n",
        "baseline_roc_auc = roc_auc_score(y_val, baseline_pred_labels)\n",
        "print(f'Baseline Model roc Score: {baseline_roc_auc}')"
      ],
      "metadata": {
        "colab": {
          "base_uri": "https://localhost:8080/"
        },
        "id": "X0AqO-gY743_",
        "outputId": "4f18c1d8-f5a7-456d-fbac-4404b3de1a18"
      },
      "execution_count": 41,
      "outputs": [
        {
          "output_type": "stream",
          "name": "stdout",
          "text": [
            "Epoch 1/10\n",
            "17/17 [==============================] - 1s 14ms/step - loss: 0.5212 - accuracy: 0.8124 - val_loss: 0.3819 - val_accuracy: 0.8881\n",
            "Epoch 2/10\n",
            "17/17 [==============================] - 0s 5ms/step - loss: 0.3906 - accuracy: 0.8499 - val_loss: 0.3292 - val_accuracy: 0.8881\n",
            "Epoch 3/10\n",
            "17/17 [==============================] - 0s 5ms/step - loss: 0.3354 - accuracy: 0.8649 - val_loss: 0.3081 - val_accuracy: 0.9179\n",
            "Epoch 4/10\n",
            "17/17 [==============================] - 0s 5ms/step - loss: 0.2935 - accuracy: 0.9043 - val_loss: 0.2690 - val_accuracy: 0.9254\n",
            "Epoch 5/10\n",
            "17/17 [==============================] - 0s 5ms/step - loss: 0.2612 - accuracy: 0.9006 - val_loss: 0.2505 - val_accuracy: 0.9328\n",
            "Epoch 6/10\n",
            "17/17 [==============================] - 0s 6ms/step - loss: 0.2316 - accuracy: 0.9062 - val_loss: 0.2415 - val_accuracy: 0.9328\n",
            "Epoch 7/10\n",
            "17/17 [==============================] - 0s 6ms/step - loss: 0.2073 - accuracy: 0.9268 - val_loss: 0.2123 - val_accuracy: 0.9328\n",
            "Epoch 8/10\n",
            "17/17 [==============================] - 0s 5ms/step - loss: 0.1834 - accuracy: 0.9362 - val_loss: 0.2174 - val_accuracy: 0.9478\n",
            "Epoch 9/10\n",
            "17/17 [==============================] - 0s 6ms/step - loss: 0.1601 - accuracy: 0.9381 - val_loss: 0.2153 - val_accuracy: 0.9478\n",
            "Epoch 10/10\n",
            "17/17 [==============================] - 0s 5ms/step - loss: 0.1430 - accuracy: 0.9512 - val_loss: 0.2222 - val_accuracy: 0.9478\n",
            "5/5 [==============================] - 0s 3ms/step - loss: 0.2222 - accuracy: 0.9478\n",
            "5/5 [==============================] - 0s 2ms/step\n",
            "Baseline Model Accuracy: 0.9477611940298507\n",
            "Baseline Model F1 Score: 0.7586206896551724\n",
            "Baseline Model roc Score: 0.8540616246498599\n"
          ]
        }
      ]
    },
    {
      "cell_type": "markdown",
      "source": [
        "# Implementing Dropout\n",
        "introducing dropout layers to the model to help prevent overfitting. Dropout is a regularization technique that randomly sets input units to 0 with a frequency of the rate at each step during training time, which helps prevent overfitting by making the neural network's architecture more robust."
      ],
      "metadata": {
        "id": "vfwBb8WY8Xdn"
      }
    },
    {
      "cell_type": "code",
      "source": [
        "def dropout_model():\n",
        "    model = Sequential([\n",
        "        Dense(128, activation='relu', input_shape=(X_train.shape[1],)),\n",
        "        tf.keras.layers.Dropout(0.5),\n",
        "        Dense(64, activation='relu'),\n",
        "        tf.keras.layers.Dropout(0.5),\n",
        "        Dense(32, activation='relu'),\n",
        "        tf.keras.layers.Dropout(0.5),\n",
        "        Dense(1, activation='sigmoid')\n",
        "    ])\n",
        "\n",
        "    model.compile(optimizer='adam',\n",
        "                  loss='binary_crossentropy',\n",
        "                  metrics=['accuracy'])\n",
        "\n",
        "    return model\n",
        "\n",
        "dropout_model = dropout_model()\n",
        "dropout_history = dropout_model.fit(X_train, y_train, validation_data=(X_val, y_val), epochs=10, batch_size=32)\n",
        "\n",
        "dropout_model.evaluate(X_val, y_val)\n",
        "\n",
        "dropout_predictions = dropout_model.predict(X_val)\n",
        "dropout_pred_labels = (dropout_predictions > 0.5).astype(int)\n",
        "\n",
        "dropout_accuracy = accuracy_score(y_val, dropout_pred_labels)\n",
        "print(f'Dropout Model Accuracy: {dropout_accuracy}')\n",
        "\n",
        "dropout_f1_score = f1_score(y_val, dropout_pred_labels)\n",
        "print(f'Dropout Model F1 Score: {dropout_f1_score}')\n",
        "\n",
        "dropout_roc_auc = roc_auc_score(y_val, dropout_pred_labels)\n",
        "print(f'Baseline Model roc Score: {dropout_roc_auc}')"
      ],
      "metadata": {
        "colab": {
          "base_uri": "https://localhost:8080/"
        },
        "id": "LKWvkR4H8edx",
        "outputId": "b2b6d51b-314e-485c-96f0-00acaa783b7d"
      },
      "execution_count": 42,
      "outputs": [
        {
          "output_type": "stream",
          "name": "stdout",
          "text": [
            "Epoch 1/10\n",
            "17/17 [==============================] - 2s 15ms/step - loss: 0.6799 - accuracy: 0.6210 - val_loss: 0.4970 - val_accuracy: 0.8881\n",
            "Epoch 2/10\n",
            "17/17 [==============================] - 0s 6ms/step - loss: 0.5281 - accuracy: 0.7936 - val_loss: 0.4202 - val_accuracy: 0.8881\n",
            "Epoch 3/10\n",
            "17/17 [==============================] - 0s 6ms/step - loss: 0.5220 - accuracy: 0.8199 - val_loss: 0.3971 - val_accuracy: 0.8881\n",
            "Epoch 4/10\n",
            "17/17 [==============================] - 0s 6ms/step - loss: 0.4457 - accuracy: 0.8443 - val_loss: 0.3774 - val_accuracy: 0.8881\n",
            "Epoch 5/10\n",
            "17/17 [==============================] - 0s 6ms/step - loss: 0.4592 - accuracy: 0.8236 - val_loss: 0.3636 - val_accuracy: 0.8881\n",
            "Epoch 6/10\n",
            "17/17 [==============================] - 0s 5ms/step - loss: 0.4681 - accuracy: 0.8349 - val_loss: 0.3553 - val_accuracy: 0.8881\n",
            "Epoch 7/10\n",
            "17/17 [==============================] - 0s 7ms/step - loss: 0.4009 - accuracy: 0.8499 - val_loss: 0.3438 - val_accuracy: 0.8881\n",
            "Epoch 8/10\n",
            "17/17 [==============================] - 0s 6ms/step - loss: 0.4120 - accuracy: 0.8443 - val_loss: 0.3386 - val_accuracy: 0.8881\n",
            "Epoch 9/10\n",
            "17/17 [==============================] - 0s 6ms/step - loss: 0.4031 - accuracy: 0.8537 - val_loss: 0.3321 - val_accuracy: 0.8881\n",
            "Epoch 10/10\n",
            "17/17 [==============================] - 0s 6ms/step - loss: 0.3785 - accuracy: 0.8555 - val_loss: 0.3278 - val_accuracy: 0.8955\n",
            "5/5 [==============================] - 0s 3ms/step - loss: 0.3278 - accuracy: 0.8955\n",
            "5/5 [==============================] - 0s 2ms/step\n",
            "Dropout Model Accuracy: 0.8955223880597015\n",
            "Dropout Model F1 Score: 0.125\n",
            "Baseline Model roc Score: 0.5333333333333333\n"
          ]
        }
      ]
    },
    {
      "cell_type": "markdown",
      "source": [
        "In the above code, a dropout rate of 0.5 is introduced after each hidden layer, which means approximately half of the neurons' outputs will be randomly set to zero during each training epoch. This encourages the network to learn more robust features that are not reliant on any small set of neurons."
      ],
      "metadata": {
        "id": "YRfaPOHu8ubN"
      }
    },
    {
      "cell_type": "markdown",
      "source": [
        "# Implementing Layer-wise Dropout"
      ],
      "metadata": {
        "id": "ip1eTj3u9UFZ"
      }
    },
    {
      "cell_type": "code",
      "source": [
        "def layerwise_dropout_model():\n",
        "    model = Sequential([\n",
        "        Dense(128, activation='relu', input_shape=(X_train.shape[1],)),\n",
        "        tf.keras.layers.Dropout(0.2),\n",
        "        Dense(64, activation='relu'),\n",
        "        tf.keras.layers.Dropout(0.3),\n",
        "        Dense(32, activation='relu'),\n",
        "        tf.keras.layers.Dropout(0.4),\n",
        "        Dense(1, activation='sigmoid')\n",
        "    ])\n",
        "\n",
        "    model.compile(optimizer='adam',\n",
        "                  loss='binary_crossentropy',\n",
        "                  metrics=['accuracy'])\n",
        "\n",
        "    return model\n",
        "\n",
        "layerwise_dropout_model = layerwise_dropout_model()\n",
        "layerwise_dropout_history = layerwise_dropout_model.fit(X_train, y_train, validation_data=(X_val, y_val), epochs=10, batch_size=32)\n",
        "\n",
        "layerwise_dropout_evaluation = layerwise_dropout_model.evaluate(X_val, y_val)\n",
        "print(\"Layer-wise Dropout Model Evaluation:\", layerwise_dropout_evaluation)\n",
        "\n",
        "layerwise_dropout_predictions = layerwise_dropout_model.predict(X_val)\n",
        "layerwise_dropout_pred_labels = (layerwise_dropout_predictions > 0.5).astype(int)\n",
        "\n",
        "layerwise_dropout_accuracy = accuracy_score(y_val, layerwise_dropout_pred_labels)\n",
        "print(f'Layer-wise Dropout Model Accuracy: {layerwise_dropout_accuracy}')\n",
        "\n",
        "layerwise_dropout_f1_score = f1_score(y_val, layerwise_dropout_pred_labels)\n",
        "print(f'Layer-wise Dropout Model F1 Score: {layerwise_dropout_f1_score}')\n",
        "\n",
        "layerwise_roc_auc = roc_auc_score(y_val, layerwise_dropout_pred_labels)\n",
        "print(f'Baseline Model roc Score: {layerwise_roc_auc}')\n"
      ],
      "metadata": {
        "colab": {
          "base_uri": "https://localhost:8080/"
        },
        "id": "3fWg5GKm8wlZ",
        "outputId": "02102900-bfcf-4d7c-b6ae-6e749c55a0c0"
      },
      "execution_count": 43,
      "outputs": [
        {
          "output_type": "stream",
          "name": "stdout",
          "text": [
            "Epoch 1/10\n",
            "17/17 [==============================] - 1s 15ms/step - loss: 0.5200 - accuracy: 0.8180 - val_loss: 0.4163 - val_accuracy: 0.8881\n",
            "Epoch 2/10\n",
            "17/17 [==============================] - 0s 6ms/step - loss: 0.4410 - accuracy: 0.8499 - val_loss: 0.3858 - val_accuracy: 0.8881\n",
            "Epoch 3/10\n",
            "17/17 [==============================] - 0s 6ms/step - loss: 0.4030 - accuracy: 0.8518 - val_loss: 0.3610 - val_accuracy: 0.8881\n",
            "Epoch 4/10\n",
            "17/17 [==============================] - 0s 6ms/step - loss: 0.3662 - accuracy: 0.8518 - val_loss: 0.3393 - val_accuracy: 0.8881\n",
            "Epoch 5/10\n",
            "17/17 [==============================] - 0s 8ms/step - loss: 0.3700 - accuracy: 0.8518 - val_loss: 0.3204 - val_accuracy: 0.9030\n",
            "Epoch 6/10\n",
            "17/17 [==============================] - 0s 7ms/step - loss: 0.3263 - accuracy: 0.8687 - val_loss: 0.3063 - val_accuracy: 0.9179\n",
            "Epoch 7/10\n",
            "17/17 [==============================] - 0s 8ms/step - loss: 0.3198 - accuracy: 0.8612 - val_loss: 0.3004 - val_accuracy: 0.9179\n",
            "Epoch 8/10\n",
            "17/17 [==============================] - 0s 7ms/step - loss: 0.3198 - accuracy: 0.8687 - val_loss: 0.2889 - val_accuracy: 0.9179\n",
            "Epoch 9/10\n",
            "17/17 [==============================] - 0s 9ms/step - loss: 0.2870 - accuracy: 0.8931 - val_loss: 0.2763 - val_accuracy: 0.9179\n",
            "Epoch 10/10\n",
            "17/17 [==============================] - 0s 8ms/step - loss: 0.2770 - accuracy: 0.8874 - val_loss: 0.2754 - val_accuracy: 0.9254\n",
            "5/5 [==============================] - 0s 4ms/step - loss: 0.2754 - accuracy: 0.9254\n",
            "Layer-wise Dropout Model Evaluation: [0.2753937542438507, 0.9253731369972229]\n",
            "5/5 [==============================] - 0s 3ms/step\n",
            "Layer-wise Dropout Model Accuracy: 0.9253731343283582\n",
            "Layer-wise Dropout Model F1 Score: 0.6153846153846153\n",
            "Baseline Model roc Score: 0.7540616246498598\n"
          ]
        }
      ]
    },
    {
      "cell_type": "markdown",
      "source": [
        "In this implementation, the dropout rate increases with each subsequent hidden layer. The rationale behind layer-wise varying dropout rates could be based on the hypothesis that different representations captured at different depths of the network might require different regularization strengths.\n",
        "\n",
        "The first hidden layer has a lower dropout rate (0.2), assuming that initial feature representations are more general and less prone to overfitting.\n",
        "Subsequent layers have progressively higher dropout rates (0.3 and 0.4), hypothesizing that deeper representations might capture more complex patterns that could lead to overfitting.\n",
        "This is a strategy to experiment with; the effectiveness of dropout, including the specific rates used, can depend heavily on the dataset and problem at hand."
      ],
      "metadata": {
        "id": "yKtQEziO9qg4"
      }
    },
    {
      "cell_type": "markdown",
      "source": [
        "# Implementing Monte Carlo (MC) Dropout\n",
        "\n",
        "\n",
        "\n",
        "1.   Implementing Monte Carlo Dropout allows the model to express uncertainty in its predictions, which can be particularly useful in critical applications where decision-making processes benefit from understanding the confidence level of the predictions.\n",
        "\n",
        "\n"
      ],
      "metadata": {
        "id": "Czyh2Lka93wX"
      }
    },
    {
      "cell_type": "code",
      "source": [
        "\n",
        "def make_mc_predictions(model, inputs, num_samples=100):\n",
        "    predictions = []\n",
        "    for _ in range(num_samples):\n",
        "        preds = model.predict(inputs)\n",
        "        predictions.append(preds)\n",
        "    predictions = np.array(predictions)\n",
        "    mean_preds = np.mean(predictions, axis=0)\n",
        "    return mean_preds\n",
        "\n",
        "mc_predictions = make_mc_predictions(dropout_model, X_val)\n",
        "\n",
        "mc_pred_labels = (mc_predictions > 0.5).astype(int)\n",
        "\n",
        "mc_accuracy = accuracy_score(y_val, mc_pred_labels)\n",
        "print(f'MC Dropout Model Accuracy: {mc_accuracy}')\n",
        "\n",
        "mc_f1_score = f1_score(y_val, mc_pred_labels)\n",
        "print(f'MC Dropout Model F1 Score: {mc_f1_score}')\n",
        "\n",
        "mc_roc_auc = roc_auc_score(y_val, mc_pred_labels)\n",
        "print(f'Baseline Model roc Score: {mc_roc_auc}')\n"
      ],
      "metadata": {
        "colab": {
          "base_uri": "https://localhost:8080/"
        },
        "id": "H8XsYqci9raV",
        "outputId": "d171ce93-f4f6-487e-91ab-a93064b585f9"
      },
      "execution_count": 44,
      "outputs": [
        {
          "output_type": "stream",
          "name": "stdout",
          "text": [
            "5/5 [==============================] - 0s 3ms/step\n",
            "5/5 [==============================] - 0s 3ms/step\n",
            "5/5 [==============================] - 0s 2ms/step\n",
            "5/5 [==============================] - 0s 2ms/step\n",
            "5/5 [==============================] - 0s 3ms/step\n",
            "5/5 [==============================] - 0s 2ms/step\n",
            "5/5 [==============================] - 0s 2ms/step\n",
            "5/5 [==============================] - 0s 2ms/step\n",
            "5/5 [==============================] - 0s 2ms/step\n",
            "5/5 [==============================] - 0s 2ms/step\n",
            "5/5 [==============================] - 0s 2ms/step\n",
            "5/5 [==============================] - 0s 2ms/step\n",
            "5/5 [==============================] - 0s 2ms/step\n",
            "5/5 [==============================] - 0s 2ms/step\n",
            "5/5 [==============================] - 0s 2ms/step\n",
            "5/5 [==============================] - 0s 2ms/step\n",
            "5/5 [==============================] - 0s 2ms/step\n",
            "5/5 [==============================] - 0s 2ms/step\n",
            "5/5 [==============================] - 0s 2ms/step\n",
            "5/5 [==============================] - 0s 2ms/step\n",
            "5/5 [==============================] - 0s 3ms/step\n",
            "5/5 [==============================] - 0s 3ms/step\n",
            "5/5 [==============================] - 0s 2ms/step\n",
            "5/5 [==============================] - 0s 2ms/step\n",
            "5/5 [==============================] - 0s 2ms/step\n",
            "5/5 [==============================] - 0s 2ms/step\n",
            "5/5 [==============================] - 0s 2ms/step\n",
            "5/5 [==============================] - 0s 2ms/step\n",
            "5/5 [==============================] - 0s 2ms/step\n",
            "5/5 [==============================] - 0s 2ms/step\n",
            "5/5 [==============================] - 0s 2ms/step\n",
            "5/5 [==============================] - 0s 2ms/step\n",
            "5/5 [==============================] - 0s 2ms/step\n",
            "5/5 [==============================] - 0s 3ms/step\n",
            "5/5 [==============================] - 0s 2ms/step\n",
            "5/5 [==============================] - 0s 2ms/step\n",
            "5/5 [==============================] - 0s 2ms/step\n",
            "5/5 [==============================] - 0s 2ms/step\n",
            "5/5 [==============================] - 0s 2ms/step\n",
            "5/5 [==============================] - 0s 2ms/step\n",
            "5/5 [==============================] - 0s 2ms/step\n",
            "5/5 [==============================] - 0s 2ms/step\n",
            "5/5 [==============================] - 0s 2ms/step\n",
            "5/5 [==============================] - 0s 2ms/step\n",
            "5/5 [==============================] - 0s 2ms/step\n",
            "5/5 [==============================] - 0s 2ms/step\n",
            "5/5 [==============================] - 0s 2ms/step\n",
            "5/5 [==============================] - 0s 2ms/step\n",
            "5/5 [==============================] - 0s 2ms/step\n",
            "5/5 [==============================] - 0s 2ms/step\n",
            "5/5 [==============================] - 0s 2ms/step\n",
            "5/5 [==============================] - 0s 2ms/step\n",
            "5/5 [==============================] - 0s 2ms/step\n",
            "5/5 [==============================] - 0s 2ms/step\n",
            "5/5 [==============================] - 0s 2ms/step\n",
            "5/5 [==============================] - 0s 2ms/step\n",
            "5/5 [==============================] - 0s 2ms/step\n",
            "5/5 [==============================] - 0s 2ms/step\n",
            "5/5 [==============================] - 0s 2ms/step\n",
            "5/5 [==============================] - 0s 2ms/step\n",
            "5/5 [==============================] - 0s 2ms/step\n",
            "5/5 [==============================] - 0s 2ms/step\n",
            "5/5 [==============================] - 0s 2ms/step\n",
            "5/5 [==============================] - 0s 2ms/step\n",
            "5/5 [==============================] - 0s 2ms/step\n",
            "5/5 [==============================] - 0s 3ms/step\n",
            "5/5 [==============================] - 0s 2ms/step\n",
            "5/5 [==============================] - 0s 2ms/step\n",
            "5/5 [==============================] - 0s 2ms/step\n",
            "5/5 [==============================] - 0s 2ms/step\n",
            "5/5 [==============================] - 0s 2ms/step\n",
            "5/5 [==============================] - 0s 2ms/step\n",
            "5/5 [==============================] - 0s 2ms/step\n",
            "5/5 [==============================] - 0s 2ms/step\n",
            "5/5 [==============================] - 0s 2ms/step\n",
            "5/5 [==============================] - 0s 2ms/step\n",
            "5/5 [==============================] - 0s 2ms/step\n",
            "5/5 [==============================] - 0s 2ms/step\n",
            "5/5 [==============================] - 0s 2ms/step\n",
            "5/5 [==============================] - 0s 3ms/step\n",
            "5/5 [==============================] - 0s 2ms/step\n",
            "5/5 [==============================] - 0s 2ms/step\n",
            "5/5 [==============================] - 0s 2ms/step\n",
            "5/5 [==============================] - 0s 2ms/step\n",
            "5/5 [==============================] - 0s 2ms/step\n",
            "5/5 [==============================] - 0s 2ms/step\n",
            "5/5 [==============================] - 0s 2ms/step\n",
            "5/5 [==============================] - 0s 3ms/step\n",
            "5/5 [==============================] - 0s 2ms/step\n",
            "5/5 [==============================] - 0s 2ms/step\n",
            "5/5 [==============================] - 0s 2ms/step\n",
            "5/5 [==============================] - 0s 2ms/step\n",
            "5/5 [==============================] - 0s 2ms/step\n",
            "5/5 [==============================] - 0s 2ms/step\n",
            "5/5 [==============================] - 0s 2ms/step\n",
            "5/5 [==============================] - 0s 2ms/step\n",
            "5/5 [==============================] - 0s 2ms/step\n",
            "5/5 [==============================] - 0s 2ms/step\n",
            "5/5 [==============================] - 0s 2ms/step\n",
            "5/5 [==============================] - 0s 2ms/step\n",
            "MC Dropout Model Accuracy: 0.8955223880597015\n",
            "MC Dropout Model F1 Score: 0.125\n",
            "Baseline Model roc Score: 0.5333333333333333\n"
          ]
        }
      ]
    },
    {
      "cell_type": "markdown",
      "source": [
        "# Function to Plot Accuracy and Loss Curves"
      ],
      "metadata": {
        "id": "6LWHPQjkTXyU"
      }
    },
    {
      "cell_type": "code",
      "source": [
        "import matplotlib.pyplot as plt\n",
        "def plot_history(history, title=\"\"):\n",
        "    acc = history.history['accuracy']\n",
        "    val_acc = history.history['val_accuracy']\n",
        "    loss = history.history['loss']\n",
        "    val_loss = history.history['val_loss']\n",
        "    epochs = range(1, len(acc) + 1)\n",
        "\n",
        "    plt.figure(figsize=(12, 5))\n",
        "\n",
        "    plt.subplot(1, 2, 1)\n",
        "    plt.plot(epochs, acc, 'bo', label='Training acc')\n",
        "    plt.plot(epochs, val_acc, 'b', label='Validation acc')\n",
        "    plt.title('Training and validation accuracy ' + title)\n",
        "    plt.xlabel('Epochs')\n",
        "    plt.ylabel('Accuracy')\n",
        "    plt.legend()\n",
        "\n",
        "    plt.subplot(1, 2, 2)\n",
        "    plt.plot(epochs, loss, 'bo', label='Training loss')\n",
        "    plt.plot(epochs, val_loss, 'b', label='Validation loss')\n",
        "    plt.title('Training and validation loss ' + title)\n",
        "    plt.xlabel('Epochs')\n",
        "    plt.ylabel('Loss')\n",
        "    plt.legend()\n",
        "\n",
        "    plt.tight_layout()\n",
        "    plt.show()\n"
      ],
      "metadata": {
        "id": "ETLvq2NCTZ3j"
      },
      "execution_count": 45,
      "outputs": []
    },
    {
      "cell_type": "code",
      "source": [
        "print(f'Baseline Model Accuracy: {baseline_accuracy}')\n",
        "print(f'Baseline Model F1 Score: {baseline_f1_score}')\n",
        "print(f'Baseline Model roc Score: {baseline_roc_auc}')\n",
        "\n",
        "print()\n",
        "print(f'Dropout Model Accuracy: {dropout_accuracy}')\n",
        "print(f'Dropout Model F1 Score: {dropout_f1_score}')\n",
        "print(f'Baseline Model roc Score: {dropout_roc_auc}')\n",
        "\n",
        "print()\n",
        "print(f'Layer-wise Dropout Model Accuracy: {layerwise_dropout_accuracy}')\n",
        "print(f'Layer-wise Dropout Model F1 Score: {layerwise_dropout_f1_score}')\n",
        "print(f'Baseline Model roc Score: {layerwise_roc_auc}')\n",
        "\n",
        "print()\n",
        "print(f'MC Dropout Model Accuracy: {mc_accuracy}')\n",
        "print(f'MC Dropout Model F1 Score: {mc_f1_score}')\n",
        "print(f'Baseline Model roc Score: {mc_roc_auc}')\n"
      ],
      "metadata": {
        "colab": {
          "base_uri": "https://localhost:8080/"
        },
        "id": "LBrQC-MnJpuM",
        "outputId": "e25d63ff-8717-4ae7-c940-3a06a86d5a7f"
      },
      "execution_count": 51,
      "outputs": [
        {
          "output_type": "stream",
          "name": "stdout",
          "text": [
            "Baseline Model Accuracy: 0.9477611940298507\n",
            "Baseline Model F1 Score: 0.7586206896551724\n",
            "Baseline Model roc Score: 0.8540616246498599\n",
            "\n",
            "Dropout Model Accuracy: 0.8955223880597015\n",
            "Dropout Model F1 Score: 0.125\n",
            "Baseline Model roc Score: 0.5333333333333333\n",
            "\n",
            "Layer-wise Dropout Model Accuracy: 0.9253731343283582\n",
            "Layer-wise Dropout Model F1 Score: 0.6153846153846153\n",
            "Baseline Model roc Score: 0.7540616246498598\n",
            "\n",
            "MC Dropout Model Accuracy: 0.8955223880597015\n",
            "MC Dropout Model F1 Score: 0.125\n",
            "Baseline Model roc Score: 0.5333333333333333\n"
          ]
        }
      ]
    },
    {
      "cell_type": "markdown",
      "source": [
        "# Baseline Model\n"
      ],
      "metadata": {
        "id": "7iWj8jccTffF"
      }
    },
    {
      "cell_type": "code",
      "source": [
        "plot_history(baseline_history, title=\"(Baseline Model)\")\n"
      ],
      "metadata": {
        "colab": {
          "base_uri": "https://localhost:8080/",
          "height": 476
        },
        "id": "zjvTrjXYTfrm",
        "outputId": "d7c0fae2-93ad-4bec-f402-cda22c557f45"
      },
      "execution_count": 46,
      "outputs": [
        {
          "output_type": "display_data",
          "data": {
            "text/plain": [
              "<Figure size 1200x500 with 2 Axes>"
            ],
            "image/png": "[encoded data removed]"
          },
          "metadata": {}
        }
      ]
    },
    {
      "cell_type": "markdown",
      "source": [
        "# Model with Dropout"
      ],
      "metadata": {
        "id": "4gEx2jlDTkEh"
      }
    },
    {
      "cell_type": "code",
      "source": [
        "plot_history(dropout_history, title=\"(Dropout Model)\")\n"
      ],
      "metadata": {
        "colab": {
          "base_uri": "https://localhost:8080/",
          "height": 476
        },
        "id": "-JSOaMktTkSW",
        "outputId": "974a8f35-75f1-4d89-a727-f459d4fdd03d"
      },
      "execution_count": 47,
      "outputs": [
        {
          "output_type": "display_data",
          "data": {
            "text/plain": [
              "<Figure size 1200x500 with 2 Axes>"
            ],
            "image/png": "[encoded data removed]"
          },
          "metadata": {}
        }
      ]
    },
    {
      "cell_type": "markdown",
      "source": [
        "# Model with Layer-wise Dropout"
      ],
      "metadata": {
        "id": "5SCr34JITqsK"
      }
    },
    {
      "cell_type": "code",
      "source": [
        "plot_history(layerwise_dropout_history, title=\"(Layer-wise Dropout Model)\")\n"
      ],
      "metadata": {
        "colab": {
          "base_uri": "https://localhost:8080/",
          "height": 476
        },
        "id": "MPr0llh_Trxq",
        "outputId": "91f82184-ef8d-45f4-8dd2-da73651c9e85"
      },
      "execution_count": 48,
      "outputs": [
        {
          "output_type": "display_data",
          "data": {
            "text/plain": [
              "<Figure size 1200x500 with 2 Axes>"
            ],
            "image/png": "[encoded data removed]"
          },
          "metadata": {}
        }
      ]
    }
  ]
}