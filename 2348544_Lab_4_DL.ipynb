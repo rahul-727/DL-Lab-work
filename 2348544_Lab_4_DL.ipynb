{
  "nbformat": 4,
  "nbformat_minor": 0,
  "metadata": {
    "colab": {
      "provenance": [],
      "authorship_tag": "ABX9TyPA2PRKNFOwItdoRz5LqpLr",
      "include_colab_link": true
    },
    "kernelspec": {
      "name": "python3",
      "display_name": "Python 3"
    },
    "language_info": {
      "name": "python"
    }
  },
  "cells": [
    {
      "cell_type": "markdown",
      "metadata": {
        "id": "view-in-github",
        "colab_type": "text"
      },
      "source": [
        "<a href=\"https://colab.research.google.com/github/rahul-727/DL-Lab-work/blob/main/2348544_Lab_4_DL.ipynb\" target=\"_parent\"><img src=\"https://colab.research.google.com/assets/colab-badge.svg\" alt=\"Open In Colab\"/></a>"
      ]
    },
    {
      "cell_type": "code",
      "execution_count": 47,
      "metadata": {
        "id": "x3yK2q6l3prO"
      },
      "outputs": [],
      "source": [
        "import pandas as pd\n",
        "from sklearn.model_selection import train_test_split\n",
        "from sklearn.preprocessing import StandardScaler, OneHotEncoder\n",
        "from sklearn.compose import ColumnTransformer\n",
        "from sklearn.pipeline import Pipeline\n",
        "import numpy as np\n",
        "from sklearn.metrics import f1_score"
      ]
    },
    {
      "cell_type": "code",
      "source": [
        "df = pd.read_csv('/content/telecom_customer_churn.csv')\n",
        "df.head(5)"
      ],
      "metadata": {
        "colab": {
          "base_uri": "https://localhost:8080/",
          "height": 411
        },
        "id": "BIIKHGDV3xs8",
        "outputId": "aae90f3d-a7f5-43da-c763-8a45867e08f3"
      },
      "execution_count": 48,
      "outputs": [
        {
          "output_type": "execute_result",
          "data": {
            "text/plain": [
              "  Customer ID  Gender  Age Married  Number of Dependents          City  \\\n",
              "0  0002-ORFBO  Female   37     Yes                     0  Frazier Park   \n",
              "1  0003-MKNFE    Male   46      No                     0      Glendale   \n",
              "2  0004-TLHLJ    Male   50      No                     0    Costa Mesa   \n",
              "3  0011-IGKFF    Male   78     Yes                     0      Martinez   \n",
              "4  0013-EXCHZ  Female   75     Yes                     0     Camarillo   \n",
              "\n",
              "   Zip Code   Latitude   Longitude  Number of Referrals  ...   Payment Method  \\\n",
              "0     93225  34.827662 -118.999073                    2  ...      Credit Card   \n",
              "1     91206  34.162515 -118.203869                    0  ...      Credit Card   \n",
              "2     92627  33.645672 -117.922613                    0  ...  Bank Withdrawal   \n",
              "3     94553  38.014457 -122.115432                    1  ...  Bank Withdrawal   \n",
              "4     93010  34.227846 -119.079903                    3  ...      Credit Card   \n",
              "\n",
              "  Monthly Charge Total Charges  Total Refunds Total Extra Data Charges  \\\n",
              "0           65.6        593.30           0.00                        0   \n",
              "1           -4.0        542.40          38.33                       10   \n",
              "2           73.9        280.85           0.00                        0   \n",
              "3           98.0       1237.85           0.00                        0   \n",
              "4           83.9        267.40           0.00                        0   \n",
              "\n",
              "  Total Long Distance Charges Total Revenue  Customer Status   Churn Category  \\\n",
              "0                      381.51        974.81           Stayed              NaN   \n",
              "1                       96.21        610.28           Stayed              NaN   \n",
              "2                      134.60        415.45          Churned       Competitor   \n",
              "3                      361.66       1599.51          Churned  Dissatisfaction   \n",
              "4                       22.14        289.54          Churned  Dissatisfaction   \n",
              "\n",
              "                    Churn Reason  \n",
              "0                            NaN  \n",
              "1                            NaN  \n",
              "2  Competitor had better devices  \n",
              "3        Product dissatisfaction  \n",
              "4            Network reliability  \n",
              "\n",
              "[5 rows x 38 columns]"
            ],
            "text/html": [
              "\n",
              "  <div id=\"df-f27c2e0a-3faa-45f5-9978-8569254f1efc\" class=\"colab-df-container\">\n",
              "    <div>\n",
              "<style scoped>\n",
              "    .dataframe tbody tr th:only-of-type {\n",
              "        vertical-align: middle;\n",
              "    }\n",
              "\n",
              "    .dataframe tbody tr th {\n",
              "        vertical-align: top;\n",
              "    }\n",
              "\n",
              "    .dataframe thead th {\n",
              "        text-align: right;\n",
              "    }\n",
              "</style>\n",
              "<table border=\"1\" class=\"dataframe\">\n",
              "  <thead>\n",
              "    <tr style=\"text-align: right;\">\n",
              "      <th></th>\n",
              "      <th>Customer ID</th>\n",
              "      <th>Gender</th>\n",
              "      <th>Age</th>\n",
              "      <th>Married</th>\n",
              "      <th>Number of Dependents</th>\n",
              "      <th>City</th>\n",
              "      <th>Zip Code</th>\n",
              "      <th>Latitude</th>\n",
              "      <th>Longitude</th>\n",
              "      <th>Number of Referrals</th>\n",
              "      <th>...</th>\n",
              "      <th>Payment Method</th>\n",
              "      <th>Monthly Charge</th>\n",
              "      <th>Total Charges</th>\n",
              "      <th>Total Refunds</th>\n",
              "      <th>Total Extra Data Charges</th>\n",
              "      <th>Total Long Distance Charges</th>\n",
              "      <th>Total Revenue</th>\n",
              "      <th>Customer Status</th>\n",
              "      <th>Churn Category</th>\n",
              "      <th>Churn Reason</th>\n",
              "    </tr>\n",
              "  </thead>\n",
              "  <tbody>\n",
              "    <tr>\n",
              "      <th>0</th>\n",
              "      <td>0002-ORFBO</td>\n",
              "      <td>Female</td>\n",
              "      <td>37</td>\n",
              "      <td>Yes</td>\n",
              "      <td>0</td>\n",
              "      <td>Frazier Park</td>\n",
              "      <td>93225</td>\n",
              "      <td>34.827662</td>\n",
              "      <td>-118.999073</td>\n",
              "      <td>2</td>\n",
              "      <td>...</td>\n",
              "      <td>Credit Card</td>\n",
              "      <td>65.6</td>\n",
              "      <td>593.30</td>\n",
              "      <td>0.00</td>\n",
              "      <td>0</td>\n",
              "      <td>381.51</td>\n",
              "      <td>974.81</td>\n",
              "      <td>Stayed</td>\n",
              "      <td>NaN</td>\n",
              "      <td>NaN</td>\n",
              "    </tr>\n",
              "    <tr>\n",
              "      <th>1</th>\n",
              "      <td>0003-MKNFE</td>\n",
              "      <td>Male</td>\n",
              "      <td>46</td>\n",
              "      <td>No</td>\n",
              "      <td>0</td>\n",
              "      <td>Glendale</td>\n",
              "      <td>91206</td>\n",
              "      <td>34.162515</td>\n",
              "      <td>-118.203869</td>\n",
              "      <td>0</td>\n",
              "      <td>...</td>\n",
              "      <td>Credit Card</td>\n",
              "      <td>-4.0</td>\n",
              "      <td>542.40</td>\n",
              "      <td>38.33</td>\n",
              "      <td>10</td>\n",
              "      <td>96.21</td>\n",
              "      <td>610.28</td>\n",
              "      <td>Stayed</td>\n",
              "      <td>NaN</td>\n",
              "      <td>NaN</td>\n",
              "    </tr>\n",
              "    <tr>\n",
              "      <th>2</th>\n",
              "      <td>0004-TLHLJ</td>\n",
              "      <td>Male</td>\n",
              "      <td>50</td>\n",
              "      <td>No</td>\n",
              "      <td>0</td>\n",
              "      <td>Costa Mesa</td>\n",
              "      <td>92627</td>\n",
              "      <td>33.645672</td>\n",
              "      <td>-117.922613</td>\n",
              "      <td>0</td>\n",
              "      <td>...</td>\n",
              "      <td>Bank Withdrawal</td>\n",
              "      <td>73.9</td>\n",
              "      <td>280.85</td>\n",
              "      <td>0.00</td>\n",
              "      <td>0</td>\n",
              "      <td>134.60</td>\n",
              "      <td>415.45</td>\n",
              "      <td>Churned</td>\n",
              "      <td>Competitor</td>\n",
              "      <td>Competitor had better devices</td>\n",
              "    </tr>\n",
              "    <tr>\n",
              "      <th>3</th>\n",
              "      <td>0011-IGKFF</td>\n",
              "      <td>Male</td>\n",
              "      <td>78</td>\n",
              "      <td>Yes</td>\n",
              "      <td>0</td>\n",
              "      <td>Martinez</td>\n",
              "      <td>94553</td>\n",
              "      <td>38.014457</td>\n",
              "      <td>-122.115432</td>\n",
              "      <td>1</td>\n",
              "      <td>...</td>\n",
              "      <td>Bank Withdrawal</td>\n",
              "      <td>98.0</td>\n",
              "      <td>1237.85</td>\n",
              "      <td>0.00</td>\n",
              "      <td>0</td>\n",
              "      <td>361.66</td>\n",
              "      <td>1599.51</td>\n",
              "      <td>Churned</td>\n",
              "      <td>Dissatisfaction</td>\n",
              "      <td>Product dissatisfaction</td>\n",
              "    </tr>\n",
              "    <tr>\n",
              "      <th>4</th>\n",
              "      <td>0013-EXCHZ</td>\n",
              "      <td>Female</td>\n",
              "      <td>75</td>\n",
              "      <td>Yes</td>\n",
              "      <td>0</td>\n",
              "      <td>Camarillo</td>\n",
              "      <td>93010</td>\n",
              "      <td>34.227846</td>\n",
              "      <td>-119.079903</td>\n",
              "      <td>3</td>\n",
              "      <td>...</td>\n",
              "      <td>Credit Card</td>\n",
              "      <td>83.9</td>\n",
              "      <td>267.40</td>\n",
              "      <td>0.00</td>\n",
              "      <td>0</td>\n",
              "      <td>22.14</td>\n",
              "      <td>289.54</td>\n",
              "      <td>Churned</td>\n",
              "      <td>Dissatisfaction</td>\n",
              "      <td>Network reliability</td>\n",
              "    </tr>\n",
              "  </tbody>\n",
              "</table>\n",
              "<p>5 rows × 38 columns</p>\n",
              "</div>\n",
              "    <div class=\"colab-df-buttons\">\n",
              "\n",
              "  <div class=\"colab-df-container\">\n",
              "    <button class=\"colab-df-convert\" onclick=\"convertToInteractive('df-f27c2e0a-3faa-45f5-9978-8569254f1efc')\"\n",
              "            title=\"Convert this dataframe to an interactive table.\"\n",
              "            style=\"display:none;\">\n",
              "\n",
              "  <svg xmlns=\"http://www.w3.org/2000/svg\" height=\"24px\" viewBox=\"0 -960 960 960\">\n",
              "    <path d=\"M120-120v-720h720v720H120Zm60-500h600v-160H180v160Zm220 220h160v-160H400v160Zm0 220h160v-160H400v160ZM180-400h160v-160H180v160Zm440 0h160v-160H620v160ZM180-180h160v-160H180v160Zm440 0h160v-160H620v160Z\"/>\n",
              "  </svg>\n",
              "    </button>\n",
              "\n",
              "  <style>\n",
              "    .colab-df-container {\n",
              "      display:flex;\n",
              "      gap: 12px;\n",
              "    }\n",
              "\n",
              "    .colab-df-convert {\n",
              "      background-color: #E8F0FE;\n",
              "      border: none;\n",
              "      border-radius: 50%;\n",
              "      cursor: pointer;\n",
              "      display: none;\n",
              "      fill: #1967D2;\n",
              "      height: 32px;\n",
              "      padding: 0 0 0 0;\n",
              "      width: 32px;\n",
              "    }\n",
              "\n",
              "    .colab-df-convert:hover {\n",
              "      background-color: #E2EBFA;\n",
              "      box-shadow: 0px 1px 2px rgba(60, 64, 67, 0.3), 0px 1px 3px 1px rgba(60, 64, 67, 0.15);\n",
              "      fill: #174EA6;\n",
              "    }\n",
              "\n",
              "    .colab-df-buttons div {\n",
              "      margin-bottom: 4px;\n",
              "    }\n",
              "\n",
              "    [theme=dark] .colab-df-convert {\n",
              "      background-color: #3B4455;\n",
              "      fill: #D2E3FC;\n",
              "    }\n",
              "\n",
              "    [theme=dark] .colab-df-convert:hover {\n",
              "      background-color: #434B5C;\n",
              "      box-shadow: 0px 1px 3px 1px rgba(0, 0, 0, 0.15);\n",
              "      filter: drop-shadow(0px 1px 2px rgba(0, 0, 0, 0.3));\n",
              "      fill: #FFFFFF;\n",
              "    }\n",
              "  </style>\n",
              "\n",
              "    <script>\n",
              "      const buttonEl =\n",
              "        document.querySelector('#df-f27c2e0a-3faa-45f5-9978-8569254f1efc button.colab-df-convert');\n",
              "      buttonEl.style.display =\n",
              "        google.colab.kernel.accessAllowed ? 'block' : 'none';\n",
              "\n",
              "      async function convertToInteractive(key) {\n",
              "        const element = document.querySelector('#df-f27c2e0a-3faa-45f5-9978-8569254f1efc');\n",
              "        const dataTable =\n",
              "          await google.colab.kernel.invokeFunction('convertToInteractive',\n",
              "                                                    [key], {});\n",
              "        if (!dataTable) return;\n",
              "\n",
              "        const docLinkHtml = 'Like what you see? Visit the ' +\n",
              "          '<a target=\"_blank\" href=https://colab.research.google.com/notebooks/data_table.ipynb>data table notebook</a>'\n",
              "          + ' to learn more about interactive tables.';\n",
              "        element.innerHTML = '';\n",
              "        dataTable['output_type'] = 'display_data';\n",
              "        await google.colab.output.renderOutput(dataTable, element);\n",
              "        const docLink = document.createElement('div');\n",
              "        docLink.innerHTML = docLinkHtml;\n",
              "        element.appendChild(docLink);\n",
              "      }\n",
              "    </script>\n",
              "  </div>\n",
              "\n",
              "\n",
              "<div id=\"df-b5a8f3a2-bd61-4f5c-9638-49971c02f37e\">\n",
              "  <button class=\"colab-df-quickchart\" onclick=\"quickchart('df-b5a8f3a2-bd61-4f5c-9638-49971c02f37e')\"\n",
              "            title=\"Suggest charts\"\n",
              "            style=\"display:none;\">\n",
              "\n",
              "<svg xmlns=\"http://www.w3.org/2000/svg\" height=\"24px\"viewBox=\"0 0 24 24\"\n",
              "     width=\"24px\">\n",
              "    <g>\n",
              "        <path d=\"M19 3H5c-1.1 0-2 .9-2 2v14c0 1.1.9 2 2 2h14c1.1 0 2-.9 2-2V5c0-1.1-.9-2-2-2zM9 17H7v-7h2v7zm4 0h-2V7h2v10zm4 0h-2v-4h2v4z\"/>\n",
              "    </g>\n",
              "</svg>\n",
              "  </button>\n",
              "\n",
              "<style>\n",
              "  .colab-df-quickchart {\n",
              "      --bg-color: #E8F0FE;\n",
              "      --fill-color: #1967D2;\n",
              "      --hover-bg-color: #E2EBFA;\n",
              "      --hover-fill-color: #174EA6;\n",
              "      --disabled-fill-color: #AAA;\n",
              "      --disabled-bg-color: #DDD;\n",
              "  }\n",
              "\n",
              "  [theme=dark] .colab-df-quickchart {\n",
              "      --bg-color: #3B4455;\n",
              "      --fill-color: #D2E3FC;\n",
              "      --hover-bg-color: #434B5C;\n",
              "      --hover-fill-color: #FFFFFF;\n",
              "      --disabled-bg-color: #3B4455;\n",
              "      --disabled-fill-color: #666;\n",
              "  }\n",
              "\n",
              "  .colab-df-quickchart {\n",
              "    background-color: var(--bg-color);\n",
              "    border: none;\n",
              "    border-radius: 50%;\n",
              "    cursor: pointer;\n",
              "    display: none;\n",
              "    fill: var(--fill-color);\n",
              "    height: 32px;\n",
              "    padding: 0;\n",
              "    width: 32px;\n",
              "  }\n",
              "\n",
              "  .colab-df-quickchart:hover {\n",
              "    background-color: var(--hover-bg-color);\n",
              "    box-shadow: 0 1px 2px rgba(60, 64, 67, 0.3), 0 1px 3px 1px rgba(60, 64, 67, 0.15);\n",
              "    fill: var(--button-hover-fill-color);\n",
              "  }\n",
              "\n",
              "  .colab-df-quickchart-complete:disabled,\n",
              "  .colab-df-quickchart-complete:disabled:hover {\n",
              "    background-color: var(--disabled-bg-color);\n",
              "    fill: var(--disabled-fill-color);\n",
              "    box-shadow: none;\n",
              "  }\n",
              "\n",
              "  .colab-df-spinner {\n",
              "    border: 2px solid var(--fill-color);\n",
              "    border-color: transparent;\n",
              "    border-bottom-color: var(--fill-color);\n",
              "    animation:\n",
              "      spin 1s steps(1) infinite;\n",
              "  }\n",
              "\n",
              "  @keyframes spin {\n",
              "    0% {\n",
              "      border-color: transparent;\n",
              "      border-bottom-color: var(--fill-color);\n",
              "      border-left-color: var(--fill-color);\n",
              "    }\n",
              "    20% {\n",
              "      border-color: transparent;\n",
              "      border-left-color: var(--fill-color);\n",
              "      border-top-color: var(--fill-color);\n",
              "    }\n",
              "    30% {\n",
              "      border-color: transparent;\n",
              "      border-left-color: var(--fill-color);\n",
              "      border-top-color: var(--fill-color);\n",
              "      border-right-color: var(--fill-color);\n",
              "    }\n",
              "    40% {\n",
              "      border-color: transparent;\n",
              "      border-right-color: var(--fill-color);\n",
              "      border-top-color: var(--fill-color);\n",
              "    }\n",
              "    60% {\n",
              "      border-color: transparent;\n",
              "      border-right-color: var(--fill-color);\n",
              "    }\n",
              "    80% {\n",
              "      border-color: transparent;\n",
              "      border-right-color: var(--fill-color);\n",
              "      border-bottom-color: var(--fill-color);\n",
              "    }\n",
              "    90% {\n",
              "      border-color: transparent;\n",
              "      border-bottom-color: var(--fill-color);\n",
              "    }\n",
              "  }\n",
              "</style>\n",
              "\n",
              "  <script>\n",
              "    async function quickchart(key) {\n",
              "      const quickchartButtonEl =\n",
              "        document.querySelector('#' + key + ' button');\n",
              "      quickchartButtonEl.disabled = true;  // To prevent multiple clicks.\n",
              "      quickchartButtonEl.classList.add('colab-df-spinner');\n",
              "      try {\n",
              "        const charts = await google.colab.kernel.invokeFunction(\n",
              "            'suggestCharts', [key], {});\n",
              "      } catch (error) {\n",
              "        console.error('Error during call to suggestCharts:', error);\n",
              "      }\n",
              "      quickchartButtonEl.classList.remove('colab-df-spinner');\n",
              "      quickchartButtonEl.classList.add('colab-df-quickchart-complete');\n",
              "    }\n",
              "    (() => {\n",
              "      let quickchartButtonEl =\n",
              "        document.querySelector('#df-b5a8f3a2-bd61-4f5c-9638-49971c02f37e button');\n",
              "      quickchartButtonEl.style.display =\n",
              "        google.colab.kernel.accessAllowed ? 'block' : 'none';\n",
              "    })();\n",
              "  </script>\n",
              "</div>\n",
              "    </div>\n",
              "  </div>\n"
            ],
            "application/vnd.google.colaboratory.intrinsic+json": {
              "type": "dataframe",
              "variable_name": "df"
            }
          },
          "metadata": {},
          "execution_count": 48
        }
      ]
    },
    {
      "cell_type": "code",
      "source": [
        "df.columns"
      ],
      "metadata": {
        "colab": {
          "base_uri": "https://localhost:8080/"
        },
        "id": "7AvYzSQr33VA",
        "outputId": "948820f1-0c33-4907-8bf1-61992ead2baa"
      },
      "execution_count": 49,
      "outputs": [
        {
          "output_type": "execute_result",
          "data": {
            "text/plain": [
              "Index(['Customer ID', 'Gender', 'Age', 'Married', 'Number of Dependents',\n",
              "       'City', 'Zip Code', 'Latitude', 'Longitude', 'Number of Referrals',\n",
              "       'Tenure in Months', 'Offer', 'Phone Service',\n",
              "       'Avg Monthly Long Distance Charges', 'Multiple Lines',\n",
              "       'Internet Service', 'Internet Type', 'Avg Monthly GB Download',\n",
              "       'Online Security', 'Online Backup', 'Device Protection Plan',\n",
              "       'Premium Tech Support', 'Streaming TV', 'Streaming Movies',\n",
              "       'Streaming Music', 'Unlimited Data', 'Contract', 'Paperless Billing',\n",
              "       'Payment Method', 'Monthly Charge', 'Total Charges', 'Total Refunds',\n",
              "       'Total Extra Data Charges', 'Total Long Distance Charges',\n",
              "       'Total Revenue', 'Customer Status', 'Churn Category', 'Churn Reason'],\n",
              "      dtype='object')"
            ]
          },
          "metadata": {},
          "execution_count": 49
        }
      ]
    },
    {
      "cell_type": "code",
      "source": [
        "df.isnull().sum()"
      ],
      "metadata": {
        "colab": {
          "base_uri": "https://localhost:8080/"
        },
        "id": "PyPsKPAdBp5t",
        "outputId": "b129a3e5-c757-419e-c255-9685b3ff911a"
      },
      "execution_count": 50,
      "outputs": [
        {
          "output_type": "execute_result",
          "data": {
            "text/plain": [
              "Customer ID                             0\n",
              "Gender                                  0\n",
              "Age                                     0\n",
              "Married                                 0\n",
              "Number of Dependents                    0\n",
              "City                                    0\n",
              "Zip Code                                0\n",
              "Latitude                                0\n",
              "Longitude                               0\n",
              "Number of Referrals                     0\n",
              "Tenure in Months                        0\n",
              "Offer                                   0\n",
              "Phone Service                           0\n",
              "Avg Monthly Long Distance Charges     682\n",
              "Multiple Lines                        682\n",
              "Internet Service                        0\n",
              "Internet Type                        1526\n",
              "Avg Monthly GB Download              1526\n",
              "Online Security                      1526\n",
              "Online Backup                        1526\n",
              "Device Protection Plan               1526\n",
              "Premium Tech Support                 1526\n",
              "Streaming TV                         1526\n",
              "Streaming Movies                     1526\n",
              "Streaming Music                      1526\n",
              "Unlimited Data                       1526\n",
              "Contract                                0\n",
              "Paperless Billing                       0\n",
              "Payment Method                          0\n",
              "Monthly Charge                          0\n",
              "Total Charges                           0\n",
              "Total Refunds                           0\n",
              "Total Extra Data Charges                0\n",
              "Total Long Distance Charges             0\n",
              "Total Revenue                           0\n",
              "Customer Status                         0\n",
              "Churn Category                       5174\n",
              "Churn Reason                         5174\n",
              "dtype: int64"
            ]
          },
          "metadata": {},
          "execution_count": 50
        }
      ]
    },
    {
      "cell_type": "markdown",
      "source": [
        "# Handling missing values"
      ],
      "metadata": {
        "id": "3lZQFTvJRYlE"
      }
    },
    {
      "cell_type": "code",
      "source": [
        "numerical_features_with_nan = ['Avg Monthly Long Distance Charges', 'Avg Monthly GB Download']\n",
        "for feature in numerical_features_with_nan:\n",
        "    median_value = df[feature].median()\n",
        "    df[feature].fillna(median_value, inplace=True)\n",
        "\n",
        "categorical_features_with_nan = ['Multiple Lines', 'Internet Type', 'Online Security', 'Online Backup',\n",
        "                                 'Device Protection Plan', 'Premium Tech Support', 'Streaming TV',\n",
        "                                 'Streaming Movies', 'Streaming Music', 'Unlimited Data']\n",
        "for feature in categorical_features_with_nan:\n",
        "    df[feature].fillna('Not Available', inplace=True)\n"
      ],
      "metadata": {
        "id": "0k1ozlxMDU3B"
      },
      "execution_count": 51,
      "outputs": []
    },
    {
      "cell_type": "markdown",
      "source": [
        "# dropping unnecessary columns"
      ],
      "metadata": {
        "id": "eE9et0Oo6-uN"
      }
    },
    {
      "cell_type": "code",
      "source": [
        "df = df.drop(['Customer ID', 'City', 'Zip Code', 'Latitude', 'Longitude', 'Total Charges', 'Total Revenue', 'Churn Reason'], axis=1)"
      ],
      "metadata": {
        "id": "F1YHmFFC34eZ"
      },
      "execution_count": 52,
      "outputs": []
    },
    {
      "cell_type": "markdown",
      "source": [
        "Assigning target variable"
      ],
      "metadata": {
        "id": "f1_R0MBR7NLG"
      }
    },
    {
      "cell_type": "code",
      "source": [
        "y = df['Customer Status'].apply(lambda x: 1 if x == 'churned' else 0)\n",
        "df.drop(['Customer Status', 'Churn Category'], axis=1, inplace=True)"
      ],
      "metadata": {
        "id": "y-lrXl287PfL"
      },
      "execution_count": 53,
      "outputs": []
    },
    {
      "cell_type": "markdown",
      "source": [
        "# identifying categorical and numerical columns and processing them"
      ],
      "metadata": {
        "id": "KL-lJ5I37TPB"
      }
    },
    {
      "cell_type": "code",
      "source": [
        "categorical_cols = df.select_dtypes(include=['object', 'bool']).columns\n",
        "numerical_cols = df.select_dtypes(include=['int64', 'float64']).columns\n",
        "\n",
        "numeric_transformer = Pipeline(steps=[\n",
        "    ('scaler', StandardScaler())\n",
        "])\n",
        "\n",
        "categorical_transformer = Pipeline(steps=[\n",
        "    ('onehot', OneHotEncoder(handle_unknown='ignore'))\n",
        "])\n",
        "\n",
        "preprocessor = ColumnTransformer(\n",
        "    transformers=[\n",
        "        ('num', numeric_transformer, numerical_cols),\n",
        "        ('cat', categorical_transformer, categorical_cols)\n",
        "    ])\n",
        "\n",
        "X = preprocessor.fit_transform(df)\n",
        "y = y.to_numpy()"
      ],
      "metadata": {
        "id": "eiqNhtyy7c-8"
      },
      "execution_count": 54,
      "outputs": []
    },
    {
      "cell_type": "markdown",
      "source": [
        "Spltting data"
      ],
      "metadata": {
        "id": "Hch4y_yu7pB3"
      }
    },
    {
      "cell_type": "code",
      "source": [
        "X_train, X_val, y_train, y_val = train_test_split(X, y, test_size=0.2, random_state=42)"
      ],
      "metadata": {
        "id": "-WVbcXeQ7qzY"
      },
      "execution_count": 55,
      "outputs": []
    },
    {
      "cell_type": "markdown",
      "source": [
        "# Baseline DNN Architecture\n",
        "constructing a simple baseline DNN architecture without any dropout layers."
      ],
      "metadata": {
        "id": "1OjeWvl_7zwS"
      }
    },
    {
      "cell_type": "code",
      "source": [
        "import tensorflow as tf\n",
        "from tensorflow.keras.models import Sequential\n",
        "from tensorflow.keras.layers import Dense\n",
        "\n",
        "def baseline_model():\n",
        "    model = Sequential([\n",
        "        Dense(128, activation='relu', input_shape=(X_train.shape[1],)),\n",
        "        Dense(64, activation='relu'),\n",
        "        Dense(32, activation='relu'),\n",
        "        Dense(1, activation='sigmoid')\n",
        "    ])\n",
        "\n",
        "    model.compile(optimizer='adam',\n",
        "                  loss='binary_crossentropy',\n",
        "                  metrics=['accuracy'])\n",
        "\n",
        "    return model\n",
        "\n",
        "baseline_model = baseline_model()\n",
        "baseline_history = baseline_model.fit(X_train, y_train, validation_data=(X_val, y_val), epochs=10, batch_size=32)\n",
        "\n",
        "baseline_model.evaluate(X_val, y_val)\n",
        "\n",
        "baseline_predictions = baseline_model.predict(X_val)\n",
        "baseline_pred_labels = (baseline_predictions > 0.5).astype(int)\n",
        "\n",
        "baseline_accuracy = accuracy_score(y_val, baseline_pred_labels)\n",
        "print(f'Baseline Model Accuracy: {baseline_accuracy}')\n",
        "\n",
        "baseline_f1_score = f1_score(y_val, baseline_pred_labels)\n",
        "print(f'Baseline Model F1 Score: {baseline_f1_score}')"
      ],
      "metadata": {
        "colab": {
          "base_uri": "https://localhost:8080/"
        },
        "id": "X0AqO-gY743_",
        "outputId": "45761e2b-c08a-4280-c61d-e3c9efe14e24"
      },
      "execution_count": 56,
      "outputs": [
        {
          "output_type": "stream",
          "name": "stdout",
          "text": [
            "Epoch 1/10\n",
            "177/177 [==============================] - 2s 4ms/step - loss: 0.0344 - accuracy: 0.9867 - val_loss: 1.0675e-04 - val_accuracy: 1.0000\n",
            "Epoch 2/10\n",
            "177/177 [==============================] - 1s 3ms/step - loss: 6.1625e-05 - accuracy: 1.0000 - val_loss: 3.3171e-05 - val_accuracy: 1.0000\n",
            "Epoch 3/10\n",
            "177/177 [==============================] - 1s 3ms/step - loss: 2.3381e-05 - accuracy: 1.0000 - val_loss: 1.5751e-05 - val_accuracy: 1.0000\n",
            "Epoch 4/10\n",
            "177/177 [==============================] - 1s 3ms/step - loss: 1.2271e-05 - accuracy: 1.0000 - val_loss: 9.0789e-06 - val_accuracy: 1.0000\n",
            "Epoch 5/10\n",
            "177/177 [==============================] - 1s 3ms/step - loss: 7.4940e-06 - accuracy: 1.0000 - val_loss: 5.8402e-06 - val_accuracy: 1.0000\n",
            "Epoch 6/10\n",
            "177/177 [==============================] - 1s 3ms/step - loss: 4.9880e-06 - accuracy: 1.0000 - val_loss: 4.0193e-06 - val_accuracy: 1.0000\n",
            "Epoch 7/10\n",
            "177/177 [==============================] - 1s 3ms/step - loss: 3.5184e-06 - accuracy: 1.0000 - val_loss: 2.9112e-06 - val_accuracy: 1.0000\n",
            "Epoch 8/10\n",
            "177/177 [==============================] - 0s 3ms/step - loss: 2.6098e-06 - accuracy: 1.0000 - val_loss: 2.2006e-06 - val_accuracy: 1.0000\n",
            "Epoch 9/10\n",
            "177/177 [==============================] - 1s 3ms/step - loss: 2.0009e-06 - accuracy: 1.0000 - val_loss: 1.7101e-06 - val_accuracy: 1.0000\n",
            "Epoch 10/10\n",
            "177/177 [==============================] - 1s 4ms/step - loss: 1.5733e-06 - accuracy: 1.0000 - val_loss: 1.3595e-06 - val_accuracy: 1.0000\n",
            "45/45 [==============================] - 0s 3ms/step - loss: 1.3595e-06 - accuracy: 1.0000\n",
            "45/45 [==============================] - 0s 3ms/step\n",
            "Baseline Model Accuracy: 1.0\n",
            "Baseline Model F1 Score: 0.0\n"
          ]
        },
        {
          "output_type": "stream",
          "name": "stderr",
          "text": [
            "/usr/local/lib/python3.10/dist-packages/sklearn/metrics/_classification.py:1609: UndefinedMetricWarning: F-score is ill-defined and being set to 0.0 due to no true nor predicted samples. Use `zero_division` parameter to control this behavior.\n",
            "  _warn_prf(average, \"true nor predicted\", \"F-score is\", len(true_sum))\n"
          ]
        }
      ]
    },
    {
      "cell_type": "markdown",
      "source": [
        "# Implementing Dropout\n",
        "introducing dropout layers to the model to help prevent overfitting. Dropout is a regularization technique that randomly sets input units to 0 with a frequency of the rate at each step during training time, which helps prevent overfitting by making the neural network's architecture more robust."
      ],
      "metadata": {
        "id": "vfwBb8WY8Xdn"
      }
    },
    {
      "cell_type": "code",
      "source": [
        "def dropout_model():\n",
        "    model = Sequential([\n",
        "        Dense(128, activation='relu', input_shape=(X_train.shape[1],)),\n",
        "        tf.keras.layers.Dropout(0.5),\n",
        "        Dense(64, activation='relu'),\n",
        "        tf.keras.layers.Dropout(0.5),\n",
        "        Dense(32, activation='relu'),\n",
        "        tf.keras.layers.Dropout(0.5),\n",
        "        Dense(1, activation='sigmoid')\n",
        "    ])\n",
        "\n",
        "    model.compile(optimizer='adam',\n",
        "                  loss='binary_crossentropy',\n",
        "                  metrics=['accuracy'])\n",
        "\n",
        "    return model\n",
        "\n",
        "dropout_model = dropout_model()\n",
        "dropout_history = dropout_model.fit(X_train, y_train, validation_data=(X_val, y_val), epochs=10, batch_size=32)\n",
        "\n",
        "dropout_model.evaluate(X_val, y_val)\n",
        "\n",
        "dropout_predictions = dropout_model.predict(X_val)\n",
        "dropout_pred_labels = (dropout_predictions > 0.5).astype(int)\n",
        "\n",
        "dropout_accuracy = accuracy_score(y_val, dropout_pred_labels)\n",
        "print(f'Dropout Model Accuracy: {dropout_accuracy}')\n",
        "\n",
        "dropout_f1_score = f1_score(y_val, dropout_pred_labels)\n",
        "print(f'Dropout Model F1 Score: {dropout_f1_score}')\n"
      ],
      "metadata": {
        "colab": {
          "base_uri": "https://localhost:8080/"
        },
        "id": "LKWvkR4H8edx",
        "outputId": "85c3b000-cd86-4d9a-bef7-956df2cb0122"
      },
      "execution_count": 57,
      "outputs": [
        {
          "output_type": "stream",
          "name": "stdout",
          "text": [
            "Epoch 1/10\n",
            "177/177 [==============================] - 2s 5ms/step - loss: 0.0705 - accuracy: 0.9759 - val_loss: 1.5233e-06 - val_accuracy: 1.0000\n",
            "Epoch 2/10\n",
            "177/177 [==============================] - 1s 4ms/step - loss: 9.8898e-04 - accuracy: 1.0000 - val_loss: 2.5774e-08 - val_accuracy: 1.0000\n",
            "Epoch 3/10\n",
            "177/177 [==============================] - 1s 3ms/step - loss: 3.1074e-04 - accuracy: 1.0000 - val_loss: 1.7528e-09 - val_accuracy: 1.0000\n",
            "Epoch 4/10\n",
            "177/177 [==============================] - 1s 4ms/step - loss: 1.2755e-04 - accuracy: 1.0000 - val_loss: 3.2573e-10 - val_accuracy: 1.0000\n",
            "Epoch 5/10\n",
            "177/177 [==============================] - 1s 3ms/step - loss: 9.9651e-05 - accuracy: 1.0000 - val_loss: 7.7869e-11 - val_accuracy: 1.0000\n",
            "Epoch 6/10\n",
            "177/177 [==============================] - 1s 3ms/step - loss: 5.8490e-05 - accuracy: 1.0000 - val_loss: 2.1917e-11 - val_accuracy: 1.0000\n",
            "Epoch 7/10\n",
            "177/177 [==============================] - 1s 4ms/step - loss: 9.6700e-05 - accuracy: 1.0000 - val_loss: 4.6503e-12 - val_accuracy: 1.0000\n",
            "Epoch 8/10\n",
            "177/177 [==============================] - 1s 3ms/step - loss: 2.9778e-05 - accuracy: 1.0000 - val_loss: 1.9147e-12 - val_accuracy: 1.0000\n",
            "Epoch 9/10\n",
            "177/177 [==============================] - 1s 3ms/step - loss: 3.1652e-05 - accuracy: 1.0000 - val_loss: 6.0086e-13 - val_accuracy: 1.0000\n",
            "Epoch 10/10\n",
            "177/177 [==============================] - 1s 3ms/step - loss: 3.2121e-05 - accuracy: 1.0000 - val_loss: 1.8875e-13 - val_accuracy: 1.0000\n",
            "45/45 [==============================] - 0s 3ms/step - loss: 1.8875e-13 - accuracy: 1.0000\n",
            "45/45 [==============================] - 0s 3ms/step\n",
            "Dropout Model Accuracy: 1.0\n",
            "Dropout Model F1 Score: 0.0\n"
          ]
        },
        {
          "output_type": "stream",
          "name": "stderr",
          "text": [
            "/usr/local/lib/python3.10/dist-packages/sklearn/metrics/_classification.py:1609: UndefinedMetricWarning: F-score is ill-defined and being set to 0.0 due to no true nor predicted samples. Use `zero_division` parameter to control this behavior.\n",
            "  _warn_prf(average, \"true nor predicted\", \"F-score is\", len(true_sum))\n"
          ]
        }
      ]
    },
    {
      "cell_type": "markdown",
      "source": [
        "In the above code, a dropout rate of 0.5 is introduced after each hidden layer, which means approximately half of the neurons' outputs will be randomly set to zero during each training epoch. This encourages the network to learn more robust features that are not reliant on any small set of neurons."
      ],
      "metadata": {
        "id": "YRfaPOHu8ubN"
      }
    },
    {
      "cell_type": "markdown",
      "source": [
        "# Implementing Layer-wise Dropout"
      ],
      "metadata": {
        "id": "ip1eTj3u9UFZ"
      }
    },
    {
      "cell_type": "code",
      "source": [
        "def layerwise_dropout_model():\n",
        "    model = Sequential([\n",
        "        Dense(128, activation='relu', input_shape=(X_train.shape[1],)),\n",
        "        tf.keras.layers.Dropout(0.2),\n",
        "        Dense(64, activation='relu'),\n",
        "        tf.keras.layers.Dropout(0.3),\n",
        "        Dense(32, activation='relu'),\n",
        "        tf.keras.layers.Dropout(0.4),\n",
        "        Dense(1, activation='sigmoid')\n",
        "    ])\n",
        "\n",
        "    model.compile(optimizer='adam',\n",
        "                  loss='binary_crossentropy',\n",
        "                  metrics=['accuracy'])\n",
        "\n",
        "    return model\n",
        "\n",
        "layerwise_dropout_model = layerwise_dropout_model()\n",
        "layerwise_dropout_history = layerwise_dropout_model.fit(X_train, y_train, validation_data=(X_val, y_val), epochs=10, batch_size=32)\n",
        "\n",
        "layerwise_dropout_evaluation = layerwise_dropout_model.evaluate(X_val, y_val)\n",
        "print(\"Layer-wise Dropout Model Evaluation:\", layerwise_dropout_evaluation)\n",
        "\n",
        "layerwise_dropout_predictions = layerwise_dropout_model.predict(X_val)\n",
        "layerwise_dropout_pred_labels = (layerwise_dropout_predictions > 0.5).astype(int)\n",
        "\n",
        "layerwise_dropout_accuracy = accuracy_score(y_val, layerwise_dropout_pred_labels)\n",
        "print(f'Layer-wise Dropout Model Accuracy: {layerwise_dropout_accuracy}')\n",
        "\n",
        "layerwise_dropout_f1_score = f1_score(y_val, layerwise_dropout_pred_labels)\n",
        "print(f'Layer-wise Dropout Model F1 Score: {layerwise_dropout_f1_score}')\n"
      ],
      "metadata": {
        "colab": {
          "base_uri": "https://localhost:8080/"
        },
        "id": "3fWg5GKm8wlZ",
        "outputId": "b67cdee4-4d81-41e1-e874-64649c4098af"
      },
      "execution_count": 58,
      "outputs": [
        {
          "output_type": "stream",
          "name": "stdout",
          "text": [
            "Epoch 1/10\n",
            "177/177 [==============================] - 2s 4ms/step - loss: 0.0491 - accuracy: 0.9867 - val_loss: 3.6699e-06 - val_accuracy: 1.0000\n",
            "Epoch 2/10\n",
            "177/177 [==============================] - 1s 3ms/step - loss: 3.6919e-04 - accuracy: 1.0000 - val_loss: 1.8225e-07 - val_accuracy: 1.0000\n",
            "Epoch 3/10\n",
            "177/177 [==============================] - 1s 3ms/step - loss: 1.8230e-04 - accuracy: 1.0000 - val_loss: 2.8838e-08 - val_accuracy: 1.0000\n",
            "Epoch 4/10\n",
            "177/177 [==============================] - 1s 3ms/step - loss: 5.7027e-05 - accuracy: 1.0000 - val_loss: 8.5484e-09 - val_accuracy: 1.0000\n",
            "Epoch 5/10\n",
            "177/177 [==============================] - 1s 3ms/step - loss: 5.0014e-05 - accuracy: 1.0000 - val_loss: 2.5178e-09 - val_accuracy: 1.0000\n",
            "Epoch 6/10\n",
            "177/177 [==============================] - 1s 4ms/step - loss: 2.4024e-05 - accuracy: 1.0000 - val_loss: 1.0889e-09 - val_accuracy: 1.0000\n",
            "Epoch 7/10\n",
            "177/177 [==============================] - 1s 4ms/step - loss: 5.7341e-05 - accuracy: 1.0000 - val_loss: 5.2797e-10 - val_accuracy: 1.0000\n",
            "Epoch 8/10\n",
            "177/177 [==============================] - 1s 3ms/step - loss: 1.6639e-05 - accuracy: 1.0000 - val_loss: 2.2519e-10 - val_accuracy: 1.0000\n",
            "Epoch 9/10\n",
            "177/177 [==============================] - 1s 3ms/step - loss: 8.4408e-06 - accuracy: 1.0000 - val_loss: 1.3284e-10 - val_accuracy: 1.0000\n",
            "Epoch 10/10\n",
            "177/177 [==============================] - 1s 3ms/step - loss: 9.4574e-06 - accuracy: 1.0000 - val_loss: 6.7531e-11 - val_accuracy: 1.0000\n",
            "45/45 [==============================] - 0s 3ms/step - loss: 6.7531e-11 - accuracy: 1.0000\n",
            "Layer-wise Dropout Model Evaluation: [6.75306546793486e-11, 1.0]\n",
            "45/45 [==============================] - 0s 3ms/step\n",
            "Layer-wise Dropout Model Accuracy: 1.0\n",
            "Layer-wise Dropout Model F1 Score: 0.0\n"
          ]
        },
        {
          "output_type": "stream",
          "name": "stderr",
          "text": [
            "/usr/local/lib/python3.10/dist-packages/sklearn/metrics/_classification.py:1609: UndefinedMetricWarning: F-score is ill-defined and being set to 0.0 due to no true nor predicted samples. Use `zero_division` parameter to control this behavior.\n",
            "  _warn_prf(average, \"true nor predicted\", \"F-score is\", len(true_sum))\n"
          ]
        }
      ]
    },
    {
      "cell_type": "markdown",
      "source": [
        "In this implementation, the dropout rate increases with each subsequent hidden layer. The rationale behind layer-wise varying dropout rates could be based on the hypothesis that different representations captured at different depths of the network might require different regularization strengths.\n",
        "\n",
        "The first hidden layer has a lower dropout rate (0.2), assuming that initial feature representations are more general and less prone to overfitting.\n",
        "Subsequent layers have progressively higher dropout rates (0.3 and 0.4), hypothesizing that deeper representations might capture more complex patterns that could lead to overfitting.\n",
        "This is a strategy to experiment with; the effectiveness of dropout, including the specific rates used, can depend heavily on the dataset and problem at hand."
      ],
      "metadata": {
        "id": "yKtQEziO9qg4"
      }
    },
    {
      "cell_type": "markdown",
      "source": [
        "# Implementing Monte Carlo (MC) Dropout\n",
        "\n",
        "\n",
        "\n",
        "1.   Implementing Monte Carlo Dropout allows the model to express uncertainty in its predictions, which can be particularly useful in critical applications where decision-making processes benefit from understanding the confidence level of the predictions.\n",
        "\n",
        "\n"
      ],
      "metadata": {
        "id": "Czyh2Lka93wX"
      }
    },
    {
      "cell_type": "code",
      "source": [
        "from sklearn.metrics import accuracy_score\n",
        "\n",
        "def make_mc_predictions(model, inputs, num_samples=100):\n",
        "    predictions = []\n",
        "    for _ in range(num_samples):\n",
        "        preds = model.predict(inputs)\n",
        "        predictions.append(preds)\n",
        "    predictions = np.array(predictions)\n",
        "    mean_preds = np.mean(predictions, axis=0)\n",
        "    return mean_preds\n",
        "\n",
        "mc_predictions = make_mc_predictions(dropout_model, X_val)\n",
        "\n",
        "mc_pred_labels = (mc_predictions > 0.5).astype(int)\n",
        "\n",
        "mc_accuracy = accuracy_score(y_val, mc_pred_labels)\n",
        "print(f'MC Dropout Model Accuracy: {mc_accuracy}')\n",
        "\n",
        "mc_f1_score = f1_score(y_val, mc_pred_labels)\n",
        "print(f'MC Dropout Model F1 Score: {mc_f1_score}')"
      ],
      "metadata": {
        "colab": {
          "base_uri": "https://localhost:8080/"
        },
        "id": "H8XsYqci9raV",
        "outputId": "ef72d5a4-08b2-4f39-9fb4-4c27da7550a2"
      },
      "execution_count": 59,
      "outputs": [
        {
          "output_type": "stream",
          "name": "stdout",
          "text": [
            "45/45 [==============================] - 0s 2ms/step\n",
            "45/45 [==============================] - 0s 2ms/step\n",
            "45/45 [==============================] - 0s 2ms/step\n",
            "45/45 [==============================] - 0s 2ms/step\n",
            "45/45 [==============================] - 0s 2ms/step\n",
            "45/45 [==============================] - 0s 2ms/step\n",
            "45/45 [==============================] - 0s 2ms/step\n",
            "45/45 [==============================] - 0s 2ms/step\n",
            "45/45 [==============================] - 0s 2ms/step\n",
            "45/45 [==============================] - 0s 1ms/step\n",
            "45/45 [==============================] - 0s 2ms/step\n",
            "45/45 [==============================] - 0s 2ms/step\n",
            "45/45 [==============================] - 0s 2ms/step\n",
            "45/45 [==============================] - 0s 2ms/step\n",
            "45/45 [==============================] - 0s 2ms/step\n",
            "45/45 [==============================] - 0s 2ms/step\n",
            "45/45 [==============================] - 0s 2ms/step\n",
            "45/45 [==============================] - 0s 2ms/step\n",
            "45/45 [==============================] - 0s 2ms/step\n",
            "45/45 [==============================] - 0s 2ms/step\n",
            "45/45 [==============================] - 0s 2ms/step\n",
            "45/45 [==============================] - 0s 2ms/step\n",
            "45/45 [==============================] - 0s 2ms/step\n",
            "45/45 [==============================] - 0s 2ms/step\n",
            "45/45 [==============================] - 0s 2ms/step\n",
            "45/45 [==============================] - 0s 1ms/step\n",
            "45/45 [==============================] - 0s 2ms/step\n",
            "45/45 [==============================] - 0s 2ms/step\n",
            "45/45 [==============================] - 0s 2ms/step\n",
            "45/45 [==============================] - 0s 2ms/step\n",
            "45/45 [==============================] - 0s 1ms/step\n",
            "45/45 [==============================] - 0s 2ms/step\n",
            "45/45 [==============================] - 0s 2ms/step\n",
            "45/45 [==============================] - 0s 2ms/step\n",
            "45/45 [==============================] - 0s 2ms/step\n",
            "45/45 [==============================] - 0s 2ms/step\n",
            "45/45 [==============================] - 0s 2ms/step\n",
            "45/45 [==============================] - 0s 2ms/step\n",
            "45/45 [==============================] - 0s 2ms/step\n",
            "45/45 [==============================] - 0s 2ms/step\n",
            "45/45 [==============================] - 0s 2ms/step\n",
            "45/45 [==============================] - 0s 2ms/step\n",
            "45/45 [==============================] - 0s 2ms/step\n",
            "45/45 [==============================] - 0s 2ms/step\n",
            "45/45 [==============================] - 0s 2ms/step\n",
            "45/45 [==============================] - 0s 2ms/step\n",
            "45/45 [==============================] - 0s 2ms/step\n",
            "45/45 [==============================] - 0s 2ms/step\n",
            "45/45 [==============================] - 0s 2ms/step\n",
            "45/45 [==============================] - 0s 2ms/step\n",
            "45/45 [==============================] - 0s 2ms/step\n",
            "45/45 [==============================] - 0s 2ms/step\n",
            "45/45 [==============================] - 0s 2ms/step\n",
            "45/45 [==============================] - 0s 2ms/step\n",
            "45/45 [==============================] - 0s 2ms/step\n",
            "45/45 [==============================] - 0s 3ms/step\n",
            "45/45 [==============================] - 0s 3ms/step\n",
            "45/45 [==============================] - 0s 2ms/step\n",
            "45/45 [==============================] - 0s 2ms/step\n",
            "45/45 [==============================] - 0s 3ms/step\n",
            "45/45 [==============================] - 0s 3ms/step\n",
            "45/45 [==============================] - 0s 3ms/step\n",
            "45/45 [==============================] - 0s 3ms/step\n",
            "45/45 [==============================] - 0s 2ms/step\n",
            "45/45 [==============================] - 0s 2ms/step\n",
            "45/45 [==============================] - 0s 2ms/step\n",
            "45/45 [==============================] - 0s 2ms/step\n",
            "45/45 [==============================] - 0s 2ms/step\n",
            "45/45 [==============================] - 0s 2ms/step\n",
            "45/45 [==============================] - 0s 2ms/step\n",
            "45/45 [==============================] - 0s 1ms/step\n",
            "45/45 [==============================] - 0s 2ms/step\n",
            "45/45 [==============================] - 0s 2ms/step\n",
            "45/45 [==============================] - 0s 2ms/step\n",
            "45/45 [==============================] - 0s 2ms/step\n",
            "45/45 [==============================] - 0s 2ms/step\n",
            "45/45 [==============================] - 0s 2ms/step\n",
            "45/45 [==============================] - 0s 2ms/step\n",
            "45/45 [==============================] - 0s 2ms/step\n",
            "45/45 [==============================] - 0s 2ms/step\n",
            "45/45 [==============================] - 0s 2ms/step\n",
            "45/45 [==============================] - 0s 2ms/step\n",
            "45/45 [==============================] - 0s 2ms/step\n",
            "45/45 [==============================] - 0s 1ms/step\n",
            "45/45 [==============================] - 0s 2ms/step\n",
            "45/45 [==============================] - 0s 2ms/step\n",
            "45/45 [==============================] - 0s 2ms/step\n",
            "45/45 [==============================] - 0s 2ms/step\n",
            "45/45 [==============================] - 0s 2ms/step\n",
            "45/45 [==============================] - 0s 2ms/step\n",
            "45/45 [==============================] - 0s 2ms/step\n",
            "45/45 [==============================] - 0s 2ms/step\n",
            "45/45 [==============================] - 0s 2ms/step\n",
            "45/45 [==============================] - 0s 2ms/step\n",
            "45/45 [==============================] - 0s 2ms/step\n",
            "45/45 [==============================] - 0s 2ms/step\n",
            "45/45 [==============================] - 0s 2ms/step\n",
            "45/45 [==============================] - 0s 2ms/step\n",
            "45/45 [==============================] - 0s 2ms/step\n",
            "45/45 [==============================] - 0s 2ms/step\n",
            "MC Dropout Model Accuracy: 1.0\n",
            "MC Dropout Model F1 Score: 0.0\n"
          ]
        },
        {
          "output_type": "stream",
          "name": "stderr",
          "text": [
            "/usr/local/lib/python3.10/dist-packages/sklearn/metrics/_classification.py:1609: UndefinedMetricWarning: F-score is ill-defined and being set to 0.0 due to no true nor predicted samples. Use `zero_division` parameter to control this behavior.\n",
            "  _warn_prf(average, \"true nor predicted\", \"F-score is\", len(true_sum))\n"
          ]
        }
      ]
    },
    {
      "cell_type": "markdown",
      "source": [
        "# Function to Plot Accuracy and Loss Curves"
      ],
      "metadata": {
        "id": "6LWHPQjkTXyU"
      }
    },
    {
      "cell_type": "code",
      "source": [
        "def plot_history(history, title=\"\"):\n",
        "    acc = history.history['accuracy']\n",
        "    val_acc = history.history['val_accuracy']\n",
        "    loss = history.history['loss']\n",
        "    val_loss = history.history['val_loss']\n",
        "    epochs = range(1, len(acc) + 1)\n",
        "\n",
        "    plt.figure(figsize=(12, 5))\n",
        "\n",
        "    plt.subplot(1, 2, 1)\n",
        "    plt.plot(epochs, acc, 'bo', label='Training acc')\n",
        "    plt.plot(epochs, val_acc, 'b', label='Validation acc')\n",
        "    plt.title('Training and validation accuracy ' + title)\n",
        "    plt.xlabel('Epochs')\n",
        "    plt.ylabel('Accuracy')\n",
        "    plt.legend()\n",
        "\n",
        "    plt.subplot(1, 2, 2)\n",
        "    plt.plot(epochs, loss, 'bo', label='Training loss')\n",
        "    plt.plot(epochs, val_loss, 'b', label='Validation loss')\n",
        "    plt.title('Training and validation loss ' + title)\n",
        "    plt.xlabel('Epochs')\n",
        "    plt.ylabel('Loss')\n",
        "    plt.legend()\n",
        "\n",
        "    plt.tight_layout()\n",
        "    plt.show()\n"
      ],
      "metadata": {
        "id": "ETLvq2NCTZ3j"
      },
      "execution_count": 61,
      "outputs": []
    },
    {
      "cell_type": "markdown",
      "source": [
        "# Baseline Model\n"
      ],
      "metadata": {
        "id": "7iWj8jccTffF"
      }
    },
    {
      "cell_type": "code",
      "source": [
        "plot_history(baseline_history, title=\"(Baseline Model)\")\n"
      ],
      "metadata": {
        "colab": {
          "base_uri": "https://localhost:8080/",
          "height": 476
        },
        "id": "zjvTrjXYTfrm",
        "outputId": "e09ad270-6636-46ee-a161-a354675919e8"
      },
      "execution_count": 62,
      "outputs": [
        {
          "output_type": "display_data",
          "data": {
            "text/plain": [
              "<Figure size 1200x500 with 2 Axes>"
            ],
            "image/png": "[encoded data removed]"
          },
          "metadata": {}
        }
      ]
    },
    {
      "cell_type": "markdown",
      "source": [
        "# Model with Dropout"
      ],
      "metadata": {
        "id": "4gEx2jlDTkEh"
      }
    },
    {
      "cell_type": "code",
      "source": [
        "plot_history(dropout_history, title=\"(Dropout Model)\")\n"
      ],
      "metadata": {
        "colab": {
          "base_uri": "https://localhost:8080/",
          "height": 476
        },
        "id": "-JSOaMktTkSW",
        "outputId": "3c712b2c-793e-4cd6-a458-216be3279a5d"
      },
      "execution_count": 63,
      "outputs": [
        {
          "output_type": "display_data",
          "data": {
            "text/plain": [
              "<Figure size 1200x500 with 2 Axes>"
            ],
            "image/png": "[encoded data removed]"
          },
          "metadata": {}
        }
      ]
    },
    {
      "cell_type": "markdown",
      "source": [
        "# Model with Layer-wise Dropout"
      ],
      "metadata": {
        "id": "5SCr34JITqsK"
      }
    },
    {
      "cell_type": "code",
      "source": [
        "plot_history(layerwise_dropout_history, title=\"(Layer-wise Dropout Model)\")\n"
      ],
      "metadata": {
        "colab": {
          "base_uri": "https://localhost:8080/",
          "height": 476
        },
        "id": "MPr0llh_Trxq",
        "outputId": "0f445495-cd11-40f5-9c84-4729dc2a1e97"
      },
      "execution_count": 64,
      "outputs": [
        {
          "output_type": "display_data",
          "data": {
            "text/plain": [
              "<Figure size 1200x500 with 2 Axes>"
            ],
            "image/png": "[encoded data removed]"
          },
          "metadata": {}
        }
      ]
    }
  ]
}