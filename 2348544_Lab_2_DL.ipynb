{
  "nbformat": 4,
  "nbformat_minor": 0,
  "metadata": {
    "colab": {
      "provenance": [],
      "gpuType": "T4",
      "authorship_tag": "ABX9TyNuRPpMICpE3j/xsExGDyFK",
      "include_colab_link": true
    },
    "kernelspec": {
      "name": "python3",
      "display_name": "Python 3"
    },
    "language_info": {
      "name": "python"
    },
    "accelerator": "GPU"
  },
  "cells": [
    {
      "cell_type": "markdown",
      "metadata": {
        "id": "view-in-github",
        "colab_type": "text"
      },
      "source": [
        "<a href=\"https://colab.research.google.com/github/rahul-727/DL-Lab-work/blob/main/2348544_Lab_2_DL.ipynb\" target=\"_parent\"><img src=\"https://colab.research.google.com/assets/colab-badge.svg\" alt=\"Open In Colab\"/></a>"
      ]
    },
    {
      "cell_type": "code",
      "source": [
        "pip install keras-tuner"
      ],
      "metadata": {
        "colab": {
          "base_uri": "https://localhost:8080/"
        },
        "id": "p5V_iNKRKbD6",
        "outputId": "2a47ae88-4a25-4c8d-ebe1-3c9c1be38e41"
      },
      "execution_count": 1,
      "outputs": [
        {
          "output_type": "stream",
          "name": "stdout",
          "text": [
            "Collecting keras-tuner\n",
            "  Downloading keras_tuner-1.4.6-py3-none-any.whl (128 kB)\n",
            "\u001b[?25l     \u001b[90m━━━━━━━━━━━━━━━━━━━━━━━━━━━━━━━━━━━━━━━━\u001b[0m \u001b[32m0.0/128.9 kB\u001b[0m \u001b[31m?\u001b[0m eta \u001b[36m-:--:--\u001b[0m\r\u001b[2K     \u001b[90m━━━━━━━━━━━━━━━━━━━━━━━━━━━━━━━━━━━━━━━━\u001b[0m \u001b[32m128.9/128.9 kB\u001b[0m \u001b[31m4.4 MB/s\u001b[0m eta \u001b[36m0:00:00\u001b[0m\n",
            "\u001b[?25hRequirement already satisfied: keras in /usr/local/lib/python3.10/dist-packages (from keras-tuner) (2.15.0)\n",
            "Requirement already satisfied: packaging in /usr/local/lib/python3.10/dist-packages (from keras-tuner) (23.2)\n",
            "Requirement already satisfied: requests in /usr/local/lib/python3.10/dist-packages (from keras-tuner) (2.31.0)\n",
            "Collecting kt-legacy (from keras-tuner)\n",
            "  Downloading kt_legacy-1.0.5-py3-none-any.whl (9.6 kB)\n",
            "Requirement already satisfied: charset-normalizer<4,>=2 in /usr/local/lib/python3.10/dist-packages (from requests->keras-tuner) (3.3.2)\n",
            "Requirement already satisfied: idna<4,>=2.5 in /usr/local/lib/python3.10/dist-packages (from requests->keras-tuner) (3.6)\n",
            "Requirement already satisfied: urllib3<3,>=1.21.1 in /usr/local/lib/python3.10/dist-packages (from requests->keras-tuner) (2.0.7)\n",
            "Requirement already satisfied: certifi>=2017.4.17 in /usr/local/lib/python3.10/dist-packages (from requests->keras-tuner) (2024.2.2)\n",
            "Installing collected packages: kt-legacy, keras-tuner\n",
            "Successfully installed keras-tuner-1.4.6 kt-legacy-1.0.5\n"
          ]
        }
      ]
    },
    {
      "cell_type": "code",
      "execution_count": 2,
      "metadata": {
        "id": "d7DVnzQ8eOtN",
        "colab": {
          "base_uri": "https://localhost:8080/"
        },
        "outputId": "0bf295dc-6ed3-465e-cde3-7712702150ee"
      },
      "outputs": [
        {
          "output_type": "stream",
          "name": "stderr",
          "text": [
            "<ipython-input-2-69014c430059>:9: DeprecationWarning: `import kerastuner` is deprecated, please use `import keras_tuner`.\n",
            "  from kerastuner.tuners import RandomSearch\n"
          ]
        }
      ],
      "source": [
        "from sklearn.model_selection import train_test_split\n",
        "from sklearn.preprocessing import StandardScaler, OneHotEncoder\n",
        "from sklearn.compose import ColumnTransformer\n",
        "from sklearn.pipeline import Pipeline\n",
        "import pandas as pd\n",
        "import tensorflow as tf\n",
        "from tensorflow.keras.models import Sequential\n",
        "from tensorflow.keras.layers import Dense\n",
        "from kerastuner.tuners import RandomSearch\n",
        "from tensorflow.keras.layers import Dense\n",
        "from tensorflow.keras.optimizers import Adam, SGD\n",
        "from sklearn.metrics import accuracy_score, precision_score, recall_score, f1_score, roc_auc_score, confusion_matrix\n",
        "import numpy as np\n",
        "import matplotlib.pyplot as plt\n",
        "from sklearn.metrics import precision_recall_curve"
      ]
    },
    {
      "cell_type": "markdown",
      "source": [
        "# Load the dataset"
      ],
      "metadata": {
        "id": "KH9j5zWKlm5u"
      }
    },
    {
      "cell_type": "code",
      "source": [
        "train_data_path = '/content/credit_card_fraud.csv'\n",
        "train_data = pd.read_csv(train_data_path)"
      ],
      "metadata": {
        "id": "ICIbACotlnGQ"
      },
      "execution_count": 3,
      "outputs": []
    },
    {
      "cell_type": "code",
      "source": [
        "train_data.head()"
      ],
      "metadata": {
        "id": "OB6xx7momod3",
        "colab": {
          "base_uri": "https://localhost:8080/",
          "height": 590
        },
        "outputId": "692ee27a-b8d8-4483-a935-74bba88d4f83"
      },
      "execution_count": 4,
      "outputs": [
        {
          "output_type": "execute_result",
          "data": {
            "text/plain": [
              "  Transaction Date and Time  Transaction Amount        Cardholder Name  \\\n",
              "0       2022-09-24 13:54:27              285.88            Shray Soman   \n",
              "1       2020-07-24 11:20:13             1777.32         Lakshit Bakshi   \n",
              "2       2023-03-18 01:05:36             3939.01             Riya Bobal   \n",
              "3       2021-01-07 21:53:04              376.44  Mohanlal Balakrishnan   \n",
              "4       2021-12-16 06:22:24             1687.33            Mannat Rout   \n",
              "\n",
              "                   Card Number (Hashed or Encrypted)  \\\n",
              "0  daca51bffe0fc4eaaa7c430917f94b75fd893712492254...   \n",
              "1  d5366dd9be3a0266c0252baceaa6332210ed4dbd0ef252...   \n",
              "2  4737a6384aa1c3c31f7768b86633d6a8401dd6ab4a8ff1...   \n",
              "3  4721806eed8f2663bb597ff13e79a294de318358fbb54b...   \n",
              "4  9deacc3a9efd6e382826d400620aca5f23ed94327578e5...   \n",
              "\n",
              "                 Merchant Name  Merchant Category Code (MCC)  \\\n",
              "0  Rajagopalan, Ghose and Kant                          3590   \n",
              "1                     Sule PLC                          7277   \n",
              "2                    Badal PLC                          9297   \n",
              "3                  Konda-Sodhi                          5686   \n",
              "4                      Dua Ltd                          2940   \n",
              "\n",
              "  Transaction Location (City or ZIP Code) Transaction Currency  \\\n",
              "0                                 Khammam                  INR   \n",
              "1                             Vasai-Virar                  EUR   \n",
              "2                             Nangloi Jat                  USD   \n",
              "3                              Ramagundam                  USD   \n",
              "4                                   Adoni                  INR   \n",
              "\n",
              "          Card Type Card Expiration Date  \\\n",
              "0        MasterCard                04/29   \n",
              "1  American Express                03/26   \n",
              "2              Visa                11/29   \n",
              "3              Visa                09/25   \n",
              "4        MasterCard                03/31   \n",
              "\n",
              "                      CVV Code (Hashed or Encrypted)  \\\n",
              "0  01299ac65733b5a3d774265fbfe8396b8611e5e3321855...   \n",
              "1  ad8fa913d25b3970c6efa8ca504da8ba670ce2a9cf012d...   \n",
              "2  eb3be230bbd2844b1f5d8f2e4fab9ffba8ab22cfeeb69c...   \n",
              "3  891d46993a36d78392247c642138cede01d9841daab1d9...   \n",
              "4  48a1a756f2d83f1dc57bbf14052b70a6f40d0fceed6662...   \n",
              "\n",
              "   Transaction Response Code                        Transaction ID  \\\n",
              "0                          5  b7f69cbc-a03d-41f8-adca-75920b0242c3   \n",
              "1                         12  ad53cc8e-8412-422e-8cad-4176daac8387   \n",
              "2                          5  f09cecd6-0d74-4551-8089-a31d64e6b9c5   \n",
              "3                          5  b208ae0b-4c4f-428f-b6b9-5360b288b947   \n",
              "4                          5  6b4e4e43-5b73-4906-9973-299a1b2a5e71   \n",
              "\n",
              "   Fraud Flag or Label Previous Transactions Transaction Source  \\\n",
              "0                    1                  None             Online   \n",
              "1                    1                  None             Online   \n",
              "2                    1             3 or more          In-Person   \n",
              "3                    0                     2          In-Person   \n",
              "4                    1                     2             Online   \n",
              "\n",
              "       IP Address Device Information User Account Information  \\\n",
              "0    18.106.240.6             Tablet                      NaN   \n",
              "1  212.48.185.128             Mobile                   jloyal   \n",
              "2   17.190.112.46             Mobile                      NaN   \n",
              "3  153.136.24.104             Tablet                      NaN   \n",
              "4  196.153.28.131            Desktop                      NaN   \n",
              "\n",
              "                                   Transaction Notes  \n",
              "0  Consequatur corporis minima ad vero deserunt n...  \n",
              "1  Dolore repellendus odio deleniti. Eaque quibus...  \n",
              "2  Unde beatae perspiciatis sapiente. Voluptates ...  \n",
              "3  Cupiditate repellendus necessitatibus quo occa...  \n",
              "4  Molestias assumenda consectetur itaque veritat...  "
            ],
            "text/html": [
              "\n",
              "  <div id=\"df-ed910ab2-5892-4af9-a679-839b813f890e\" class=\"colab-df-container\">\n",
              "    <div>\n",
              "<style scoped>\n",
              "    .dataframe tbody tr th:only-of-type {\n",
              "        vertical-align: middle;\n",
              "    }\n",
              "\n",
              "    .dataframe tbody tr th {\n",
              "        vertical-align: top;\n",
              "    }\n",
              "\n",
              "    .dataframe thead th {\n",
              "        text-align: right;\n",
              "    }\n",
              "</style>\n",
              "<table border=\"1\" class=\"dataframe\">\n",
              "  <thead>\n",
              "    <tr style=\"text-align: right;\">\n",
              "      <th></th>\n",
              "      <th>Transaction Date and Time</th>\n",
              "      <th>Transaction Amount</th>\n",
              "      <th>Cardholder Name</th>\n",
              "      <th>Card Number (Hashed or Encrypted)</th>\n",
              "      <th>Merchant Name</th>\n",
              "      <th>Merchant Category Code (MCC)</th>\n",
              "      <th>Transaction Location (City or ZIP Code)</th>\n",
              "      <th>Transaction Currency</th>\n",
              "      <th>Card Type</th>\n",
              "      <th>Card Expiration Date</th>\n",
              "      <th>CVV Code (Hashed or Encrypted)</th>\n",
              "      <th>Transaction Response Code</th>\n",
              "      <th>Transaction ID</th>\n",
              "      <th>Fraud Flag or Label</th>\n",
              "      <th>Previous Transactions</th>\n",
              "      <th>Transaction Source</th>\n",
              "      <th>IP Address</th>\n",
              "      <th>Device Information</th>\n",
              "      <th>User Account Information</th>\n",
              "      <th>Transaction Notes</th>\n",
              "    </tr>\n",
              "  </thead>\n",
              "  <tbody>\n",
              "    <tr>\n",
              "      <th>0</th>\n",
              "      <td>2022-09-24 13:54:27</td>\n",
              "      <td>285.88</td>\n",
              "      <td>Shray Soman</td>\n",
              "      <td>daca51bffe0fc4eaaa7c430917f94b75fd893712492254...</td>\n",
              "      <td>Rajagopalan, Ghose and Kant</td>\n",
              "      <td>3590</td>\n",
              "      <td>Khammam</td>\n",
              "      <td>INR</td>\n",
              "      <td>MasterCard</td>\n",
              "      <td>04/29</td>\n",
              "      <td>01299ac65733b5a3d774265fbfe8396b8611e5e3321855...</td>\n",
              "      <td>5</td>\n",
              "      <td>b7f69cbc-a03d-41f8-adca-75920b0242c3</td>\n",
              "      <td>1</td>\n",
              "      <td>None</td>\n",
              "      <td>Online</td>\n",
              "      <td>18.106.240.6</td>\n",
              "      <td>Tablet</td>\n",
              "      <td>NaN</td>\n",
              "      <td>Consequatur corporis minima ad vero deserunt n...</td>\n",
              "    </tr>\n",
              "    <tr>\n",
              "      <th>1</th>\n",
              "      <td>2020-07-24 11:20:13</td>\n",
              "      <td>1777.32</td>\n",
              "      <td>Lakshit Bakshi</td>\n",
              "      <td>d5366dd9be3a0266c0252baceaa6332210ed4dbd0ef252...</td>\n",
              "      <td>Sule PLC</td>\n",
              "      <td>7277</td>\n",
              "      <td>Vasai-Virar</td>\n",
              "      <td>EUR</td>\n",
              "      <td>American Express</td>\n",
              "      <td>03/26</td>\n",
              "      <td>ad8fa913d25b3970c6efa8ca504da8ba670ce2a9cf012d...</td>\n",
              "      <td>12</td>\n",
              "      <td>ad53cc8e-8412-422e-8cad-4176daac8387</td>\n",
              "      <td>1</td>\n",
              "      <td>None</td>\n",
              "      <td>Online</td>\n",
              "      <td>212.48.185.128</td>\n",
              "      <td>Mobile</td>\n",
              "      <td>jloyal</td>\n",
              "      <td>Dolore repellendus odio deleniti. Eaque quibus...</td>\n",
              "    </tr>\n",
              "    <tr>\n",
              "      <th>2</th>\n",
              "      <td>2023-03-18 01:05:36</td>\n",
              "      <td>3939.01</td>\n",
              "      <td>Riya Bobal</td>\n",
              "      <td>4737a6384aa1c3c31f7768b86633d6a8401dd6ab4a8ff1...</td>\n",
              "      <td>Badal PLC</td>\n",
              "      <td>9297</td>\n",
              "      <td>Nangloi Jat</td>\n",
              "      <td>USD</td>\n",
              "      <td>Visa</td>\n",
              "      <td>11/29</td>\n",
              "      <td>eb3be230bbd2844b1f5d8f2e4fab9ffba8ab22cfeeb69c...</td>\n",
              "      <td>5</td>\n",
              "      <td>f09cecd6-0d74-4551-8089-a31d64e6b9c5</td>\n",
              "      <td>1</td>\n",
              "      <td>3 or more</td>\n",
              "      <td>In-Person</td>\n",
              "      <td>17.190.112.46</td>\n",
              "      <td>Mobile</td>\n",
              "      <td>NaN</td>\n",
              "      <td>Unde beatae perspiciatis sapiente. Voluptates ...</td>\n",
              "    </tr>\n",
              "    <tr>\n",
              "      <th>3</th>\n",
              "      <td>2021-01-07 21:53:04</td>\n",
              "      <td>376.44</td>\n",
              "      <td>Mohanlal Balakrishnan</td>\n",
              "      <td>4721806eed8f2663bb597ff13e79a294de318358fbb54b...</td>\n",
              "      <td>Konda-Sodhi</td>\n",
              "      <td>5686</td>\n",
              "      <td>Ramagundam</td>\n",
              "      <td>USD</td>\n",
              "      <td>Visa</td>\n",
              "      <td>09/25</td>\n",
              "      <td>891d46993a36d78392247c642138cede01d9841daab1d9...</td>\n",
              "      <td>5</td>\n",
              "      <td>b208ae0b-4c4f-428f-b6b9-5360b288b947</td>\n",
              "      <td>0</td>\n",
              "      <td>2</td>\n",
              "      <td>In-Person</td>\n",
              "      <td>153.136.24.104</td>\n",
              "      <td>Tablet</td>\n",
              "      <td>NaN</td>\n",
              "      <td>Cupiditate repellendus necessitatibus quo occa...</td>\n",
              "    </tr>\n",
              "    <tr>\n",
              "      <th>4</th>\n",
              "      <td>2021-12-16 06:22:24</td>\n",
              "      <td>1687.33</td>\n",
              "      <td>Mannat Rout</td>\n",
              "      <td>9deacc3a9efd6e382826d400620aca5f23ed94327578e5...</td>\n",
              "      <td>Dua Ltd</td>\n",
              "      <td>2940</td>\n",
              "      <td>Adoni</td>\n",
              "      <td>INR</td>\n",
              "      <td>MasterCard</td>\n",
              "      <td>03/31</td>\n",
              "      <td>48a1a756f2d83f1dc57bbf14052b70a6f40d0fceed6662...</td>\n",
              "      <td>5</td>\n",
              "      <td>6b4e4e43-5b73-4906-9973-299a1b2a5e71</td>\n",
              "      <td>1</td>\n",
              "      <td>2</td>\n",
              "      <td>Online</td>\n",
              "      <td>196.153.28.131</td>\n",
              "      <td>Desktop</td>\n",
              "      <td>NaN</td>\n",
              "      <td>Molestias assumenda consectetur itaque veritat...</td>\n",
              "    </tr>\n",
              "  </tbody>\n",
              "</table>\n",
              "</div>\n",
              "    <div class=\"colab-df-buttons\">\n",
              "\n",
              "  <div class=\"colab-df-container\">\n",
              "    <button class=\"colab-df-convert\" onclick=\"convertToInteractive('df-ed910ab2-5892-4af9-a679-839b813f890e')\"\n",
              "            title=\"Convert this dataframe to an interactive table.\"\n",
              "            style=\"display:none;\">\n",
              "\n",
              "  <svg xmlns=\"http://www.w3.org/2000/svg\" height=\"24px\" viewBox=\"0 -960 960 960\">\n",
              "    <path d=\"M120-120v-720h720v720H120Zm60-500h600v-160H180v160Zm220 220h160v-160H400v160Zm0 220h160v-160H400v160ZM180-400h160v-160H180v160Zm440 0h160v-160H620v160ZM180-180h160v-160H180v160Zm440 0h160v-160H620v160Z\"/>\n",
              "  </svg>\n",
              "    </button>\n",
              "\n",
              "  <style>\n",
              "    .colab-df-container {\n",
              "      display:flex;\n",
              "      gap: 12px;\n",
              "    }\n",
              "\n",
              "    .colab-df-convert {\n",
              "      background-color: #E8F0FE;\n",
              "      border: none;\n",
              "      border-radius: 50%;\n",
              "      cursor: pointer;\n",
              "      display: none;\n",
              "      fill: #1967D2;\n",
              "      height: 32px;\n",
              "      padding: 0 0 0 0;\n",
              "      width: 32px;\n",
              "    }\n",
              "\n",
              "    .colab-df-convert:hover {\n",
              "      background-color: #E2EBFA;\n",
              "      box-shadow: 0px 1px 2px rgba(60, 64, 67, 0.3), 0px 1px 3px 1px rgba(60, 64, 67, 0.15);\n",
              "      fill: #174EA6;\n",
              "    }\n",
              "\n",
              "    .colab-df-buttons div {\n",
              "      margin-bottom: 4px;\n",
              "    }\n",
              "\n",
              "    [theme=dark] .colab-df-convert {\n",
              "      background-color: #3B4455;\n",
              "      fill: #D2E3FC;\n",
              "    }\n",
              "\n",
              "    [theme=dark] .colab-df-convert:hover {\n",
              "      background-color: #434B5C;\n",
              "      box-shadow: 0px 1px 3px 1px rgba(0, 0, 0, 0.15);\n",
              "      filter: drop-shadow(0px 1px 2px rgba(0, 0, 0, 0.3));\n",
              "      fill: #FFFFFF;\n",
              "    }\n",
              "  </style>\n",
              "\n",
              "    <script>\n",
              "      const buttonEl =\n",
              "        document.querySelector('#df-ed910ab2-5892-4af9-a679-839b813f890e button.colab-df-convert');\n",
              "      buttonEl.style.display =\n",
              "        google.colab.kernel.accessAllowed ? 'block' : 'none';\n",
              "\n",
              "      async function convertToInteractive(key) {\n",
              "        const element = document.querySelector('#df-ed910ab2-5892-4af9-a679-839b813f890e');\n",
              "        const dataTable =\n",
              "          await google.colab.kernel.invokeFunction('convertToInteractive',\n",
              "                                                    [key], {});\n",
              "        if (!dataTable) return;\n",
              "\n",
              "        const docLinkHtml = 'Like what you see? Visit the ' +\n",
              "          '<a target=\"_blank\" href=https://colab.research.google.com/notebooks/data_table.ipynb>data table notebook</a>'\n",
              "          + ' to learn more about interactive tables.';\n",
              "        element.innerHTML = '';\n",
              "        dataTable['output_type'] = 'display_data';\n",
              "        await google.colab.output.renderOutput(dataTable, element);\n",
              "        const docLink = document.createElement('div');\n",
              "        docLink.innerHTML = docLinkHtml;\n",
              "        element.appendChild(docLink);\n",
              "      }\n",
              "    </script>\n",
              "  </div>\n",
              "\n",
              "\n",
              "<div id=\"df-0e4ff22d-db7e-4d31-98ca-95b1dc2ed497\">\n",
              "  <button class=\"colab-df-quickchart\" onclick=\"quickchart('df-0e4ff22d-db7e-4d31-98ca-95b1dc2ed497')\"\n",
              "            title=\"Suggest charts\"\n",
              "            style=\"display:none;\">\n",
              "\n",
              "<svg xmlns=\"http://www.w3.org/2000/svg\" height=\"24px\"viewBox=\"0 0 24 24\"\n",
              "     width=\"24px\">\n",
              "    <g>\n",
              "        <path d=\"M19 3H5c-1.1 0-2 .9-2 2v14c0 1.1.9 2 2 2h14c1.1 0 2-.9 2-2V5c0-1.1-.9-2-2-2zM9 17H7v-7h2v7zm4 0h-2V7h2v10zm4 0h-2v-4h2v4z\"/>\n",
              "    </g>\n",
              "</svg>\n",
              "  </button>\n",
              "\n",
              "<style>\n",
              "  .colab-df-quickchart {\n",
              "      --bg-color: #E8F0FE;\n",
              "      --fill-color: #1967D2;\n",
              "      --hover-bg-color: #E2EBFA;\n",
              "      --hover-fill-color: #174EA6;\n",
              "      --disabled-fill-color: #AAA;\n",
              "      --disabled-bg-color: #DDD;\n",
              "  }\n",
              "\n",
              "  [theme=dark] .colab-df-quickchart {\n",
              "      --bg-color: #3B4455;\n",
              "      --fill-color: #D2E3FC;\n",
              "      --hover-bg-color: #434B5C;\n",
              "      --hover-fill-color: #FFFFFF;\n",
              "      --disabled-bg-color: #3B4455;\n",
              "      --disabled-fill-color: #666;\n",
              "  }\n",
              "\n",
              "  .colab-df-quickchart {\n",
              "    background-color: var(--bg-color);\n",
              "    border: none;\n",
              "    border-radius: 50%;\n",
              "    cursor: pointer;\n",
              "    display: none;\n",
              "    fill: var(--fill-color);\n",
              "    height: 32px;\n",
              "    padding: 0;\n",
              "    width: 32px;\n",
              "  }\n",
              "\n",
              "  .colab-df-quickchart:hover {\n",
              "    background-color: var(--hover-bg-color);\n",
              "    box-shadow: 0 1px 2px rgba(60, 64, 67, 0.3), 0 1px 3px 1px rgba(60, 64, 67, 0.15);\n",
              "    fill: var(--button-hover-fill-color);\n",
              "  }\n",
              "\n",
              "  .colab-df-quickchart-complete:disabled,\n",
              "  .colab-df-quickchart-complete:disabled:hover {\n",
              "    background-color: var(--disabled-bg-color);\n",
              "    fill: var(--disabled-fill-color);\n",
              "    box-shadow: none;\n",
              "  }\n",
              "\n",
              "  .colab-df-spinner {\n",
              "    border: 2px solid var(--fill-color);\n",
              "    border-color: transparent;\n",
              "    border-bottom-color: var(--fill-color);\n",
              "    animation:\n",
              "      spin 1s steps(1) infinite;\n",
              "  }\n",
              "\n",
              "  @keyframes spin {\n",
              "    0% {\n",
              "      border-color: transparent;\n",
              "      border-bottom-color: var(--fill-color);\n",
              "      border-left-color: var(--fill-color);\n",
              "    }\n",
              "    20% {\n",
              "      border-color: transparent;\n",
              "      border-left-color: var(--fill-color);\n",
              "      border-top-color: var(--fill-color);\n",
              "    }\n",
              "    30% {\n",
              "      border-color: transparent;\n",
              "      border-left-color: var(--fill-color);\n",
              "      border-top-color: var(--fill-color);\n",
              "      border-right-color: var(--fill-color);\n",
              "    }\n",
              "    40% {\n",
              "      border-color: transparent;\n",
              "      border-right-color: var(--fill-color);\n",
              "      border-top-color: var(--fill-color);\n",
              "    }\n",
              "    60% {\n",
              "      border-color: transparent;\n",
              "      border-right-color: var(--fill-color);\n",
              "    }\n",
              "    80% {\n",
              "      border-color: transparent;\n",
              "      border-right-color: var(--fill-color);\n",
              "      border-bottom-color: var(--fill-color);\n",
              "    }\n",
              "    90% {\n",
              "      border-color: transparent;\n",
              "      border-bottom-color: var(--fill-color);\n",
              "    }\n",
              "  }\n",
              "</style>\n",
              "\n",
              "  <script>\n",
              "    async function quickchart(key) {\n",
              "      const quickchartButtonEl =\n",
              "        document.querySelector('#' + key + ' button');\n",
              "      quickchartButtonEl.disabled = true;  // To prevent multiple clicks.\n",
              "      quickchartButtonEl.classList.add('colab-df-spinner');\n",
              "      try {\n",
              "        const charts = await google.colab.kernel.invokeFunction(\n",
              "            'suggestCharts', [key], {});\n",
              "      } catch (error) {\n",
              "        console.error('Error during call to suggestCharts:', error);\n",
              "      }\n",
              "      quickchartButtonEl.classList.remove('colab-df-spinner');\n",
              "      quickchartButtonEl.classList.add('colab-df-quickchart-complete');\n",
              "    }\n",
              "    (() => {\n",
              "      let quickchartButtonEl =\n",
              "        document.querySelector('#df-0e4ff22d-db7e-4d31-98ca-95b1dc2ed497 button');\n",
              "      quickchartButtonEl.style.display =\n",
              "        google.colab.kernel.accessAllowed ? 'block' : 'none';\n",
              "    })();\n",
              "  </script>\n",
              "</div>\n",
              "    </div>\n",
              "  </div>\n"
            ],
            "application/vnd.google.colaboratory.intrinsic+json": {
              "type": "dataframe",
              "variable_name": "train_data",
              "repr_error": "'str' object has no attribute 'empty'"
            }
          },
          "metadata": {},
          "execution_count": 4
        }
      ]
    },
    {
      "cell_type": "code",
      "source": [
        "train_data.shape"
      ],
      "metadata": {
        "id": "xXoYWLnDmt9f",
        "colab": {
          "base_uri": "https://localhost:8080/"
        },
        "outputId": "39b1fa07-a7cc-4bf4-c435-764a4711e25b"
      },
      "execution_count": 5,
      "outputs": [
        {
          "output_type": "execute_result",
          "data": {
            "text/plain": [
              "(8000, 20)"
            ]
          },
          "metadata": {},
          "execution_count": 5
        }
      ]
    },
    {
      "cell_type": "code",
      "source": [
        "train_data.columns"
      ],
      "metadata": {
        "id": "OfBUKiKPuNbK",
        "colab": {
          "base_uri": "https://localhost:8080/"
        },
        "outputId": "5127e36f-6ec3-41b7-8e30-2c2b32d0ef36"
      },
      "execution_count": 6,
      "outputs": [
        {
          "output_type": "execute_result",
          "data": {
            "text/plain": [
              "Index(['Transaction Date and Time', 'Transaction Amount', 'Cardholder Name',\n",
              "       'Card Number (Hashed or Encrypted)', 'Merchant Name',\n",
              "       'Merchant Category Code (MCC)',\n",
              "       'Transaction Location (City or ZIP Code)', 'Transaction Currency',\n",
              "       'Card Type', 'Card Expiration Date', 'CVV Code (Hashed or Encrypted)',\n",
              "       'Transaction Response Code', 'Transaction ID', 'Fraud Flag or Label',\n",
              "       'Previous Transactions', 'Transaction Source', 'IP Address',\n",
              "       'Device Information', 'User Account Information', 'Transaction Notes'],\n",
              "      dtype='object')"
            ]
          },
          "metadata": {},
          "execution_count": 6
        }
      ]
    },
    {
      "cell_type": "code",
      "source": [
        "columns_to_drop = ['Cardholder Name', 'User Account Information', 'Card Number (Hashed or Encrypted)', 'Card Expiration Date', 'CVV Code (Hashed or Encrypted)', 'Transaction ID']\n",
        "train_data = train_data.drop(columns=columns_to_drop)\n"
      ],
      "metadata": {
        "id": "A_f2IPsfJhC8"
      },
      "execution_count": 7,
      "outputs": []
    },
    {
      "cell_type": "markdown",
      "source": [
        "Check for missing values"
      ],
      "metadata": {
        "id": "-_NZlZ6fm1PV"
      }
    },
    {
      "cell_type": "code",
      "source": [
        "train_data.isnull().sum()"
      ],
      "metadata": {
        "id": "eRYtV_nGmuKu",
        "colab": {
          "base_uri": "https://localhost:8080/"
        },
        "outputId": "d81823df-96dd-41a2-e8fe-d371702643b6"
      },
      "execution_count": 8,
      "outputs": [
        {
          "output_type": "execute_result",
          "data": {
            "text/plain": [
              "Transaction Date and Time                  0\n",
              "Transaction Amount                         0\n",
              "Merchant Name                              0\n",
              "Merchant Category Code (MCC)               0\n",
              "Transaction Location (City or ZIP Code)    0\n",
              "Transaction Currency                       0\n",
              "Card Type                                  0\n",
              "Transaction Response Code                  0\n",
              "Fraud Flag or Label                        0\n",
              "Previous Transactions                      0\n",
              "Transaction Source                         0\n",
              "IP Address                                 0\n",
              "Device Information                         0\n",
              "Transaction Notes                          0\n",
              "dtype: int64"
            ]
          },
          "metadata": {},
          "execution_count": 8
        }
      ]
    },
    {
      "cell_type": "code",
      "source": [
        "train_data.info()"
      ],
      "metadata": {
        "id": "4k2hXG9nm48E",
        "colab": {
          "base_uri": "https://localhost:8080/"
        },
        "outputId": "f8d0b5ee-4e86-4ff0-df7a-9ed2bf541f37"
      },
      "execution_count": 9,
      "outputs": [
        {
          "output_type": "stream",
          "name": "stdout",
          "text": [
            "<class 'pandas.core.frame.DataFrame'>\n",
            "RangeIndex: 8000 entries, 0 to 7999\n",
            "Data columns (total 14 columns):\n",
            " #   Column                                   Non-Null Count  Dtype  \n",
            "---  ------                                   --------------  -----  \n",
            " 0   Transaction Date and Time                8000 non-null   object \n",
            " 1   Transaction Amount                       8000 non-null   float64\n",
            " 2   Merchant Name                            8000 non-null   object \n",
            " 3   Merchant Category Code (MCC)             8000 non-null   int64  \n",
            " 4   Transaction Location (City or ZIP Code)  8000 non-null   object \n",
            " 5   Transaction Currency                     8000 non-null   object \n",
            " 6   Card Type                                8000 non-null   object \n",
            " 7   Transaction Response Code                8000 non-null   int64  \n",
            " 8   Fraud Flag or Label                      8000 non-null   int64  \n",
            " 9   Previous Transactions                    8000 non-null   object \n",
            " 10  Transaction Source                       8000 non-null   object \n",
            " 11  IP Address                               8000 non-null   object \n",
            " 12  Device Information                       8000 non-null   object \n",
            " 13  Transaction Notes                        8000 non-null   object \n",
            "dtypes: float64(1), int64(3), object(10)\n",
            "memory usage: 875.1+ KB\n"
          ]
        }
      ]
    },
    {
      "cell_type": "code",
      "source": [
        "X = train_data.drop(columns=['Fraud Flag or Label'])\n",
        "y = train_data['Fraud Flag or Label']"
      ],
      "metadata": {
        "id": "XdGbspX42Mzp"
      },
      "execution_count": 10,
      "outputs": []
    },
    {
      "cell_type": "markdown",
      "source": [
        "# Identify categorical and numerical columns"
      ],
      "metadata": {
        "id": "mb52kKd5m8o2"
      }
    },
    {
      "cell_type": "code",
      "source": [
        "numerical_cols = X.select_dtypes(include=['int64', 'float64']).columns\n",
        "categorical_cols = X.select_dtypes(include=['object', 'category']).columns"
      ],
      "metadata": {
        "id": "bVNBPSIYm846"
      },
      "execution_count": 11,
      "outputs": []
    },
    {
      "cell_type": "code",
      "source": [
        "numerical_transformer = StandardScaler()\n",
        "categorical_transformer = OneHotEncoder(handle_unknown='ignore', sparse=False)"
      ],
      "metadata": {
        "id": "lA686IHeu5aC"
      },
      "execution_count": 12,
      "outputs": []
    },
    {
      "cell_type": "code",
      "source": [
        "preprocessor = ColumnTransformer(\n",
        "    transformers=[\n",
        "        ('num', numerical_transformer, numerical_cols),\n",
        "        ('cat', categorical_transformer, categorical_cols)\n",
        "    ])"
      ],
      "metadata": {
        "id": "6fzUzUzm19Rh"
      },
      "execution_count": 13,
      "outputs": []
    },
    {
      "cell_type": "code",
      "source": [
        "X_train, X_test, y_train, y_test = train_test_split(X, y, test_size=0.2, random_state=42)\n",
        "\n",
        "X_train = preprocessor.fit_transform(X_train)\n",
        "X_test = preprocessor.transform(X_test)"
      ],
      "metadata": {
        "id": "4NwLe8-c2AFZ",
        "colab": {
          "base_uri": "https://localhost:8080/"
        },
        "outputId": "9c3af748-4251-4a08-d44b-fbd141d7b749"
      },
      "execution_count": 14,
      "outputs": [
        {
          "output_type": "stream",
          "name": "stderr",
          "text": [
            "/usr/local/lib/python3.10/dist-packages/sklearn/preprocessing/_encoders.py:868: FutureWarning: `sparse` was renamed to `sparse_output` in version 1.2 and will be removed in 1.4. `sparse_output` is ignored unless you leave `sparse` to its default value.\n",
            "  warnings.warn(\n"
          ]
        }
      ]
    },
    {
      "cell_type": "markdown",
      "source": [
        "Designing the MLP Model"
      ],
      "metadata": {
        "id": "l1cbFPPI2hsT"
      }
    },
    {
      "cell_type": "code",
      "source": [
        "from kerastuner import HyperModel\n",
        "\n",
        "class MyHyperModel(HyperModel):\n",
        "    def __init__(self, input_shape):\n",
        "        self.input_shape = input_shape\n",
        "\n",
        "    def build(self, hp):\n",
        "        model = Sequential()\n",
        "        model.add(Dense(units=hp.Int('units_layer_1', min_value=32, max_value=512, step=32),\n",
        "                        activation='relu', input_shape=self.input_shape))\n",
        "        model.add(Dense(units=hp.Int('units_layer_2', min_value=32, max_value=512, step=32),\n",
        "                        activation='relu'))\n",
        "        model.add(Dense(1, activation='sigmoid'))\n",
        "\n",
        "        optimizer_choice = hp.Choice('optimizer', ['adam', 'sgd'])\n",
        "\n",
        "        hp_learning_rate = hp.Choice('learning_rate', values=[1e-2, 1e-3, 1e-4])\n",
        "\n",
        "        if optimizer_choice == 'adam':\n",
        "            optimizer = tf.keras.optimizers.Adam(learning_rate=hp_learning_rate)\n",
        "        else:\n",
        "            optimizer = tf.keras.optimizers.SGD(learning_rate=hp_learning_rate)\n",
        "\n",
        "        model.compile(optimizer=optimizer,\n",
        "                      loss='binary_crossentropy',\n",
        "                      metrics=['accuracy'])\n",
        "\n",
        "        return model"
      ],
      "metadata": {
        "id": "YYahqC1p2h3g"
      },
      "execution_count": 15,
      "outputs": []
    },
    {
      "cell_type": "markdown",
      "source": [
        "Run the Hyperparameter Search"
      ],
      "metadata": {
        "id": "ODZr3WBAKy9J"
      }
    },
    {
      "cell_type": "code",
      "source": [
        "tuner = RandomSearch(\n",
        "    MyHyperModel(input_shape=(X_train.shape[1],)),\n",
        "    objective='val_accuracy',\n",
        "    max_trials=10,\n",
        "    executions_per_trial=1,\n",
        "    directory='my_dir',\n",
        "    project_name='helloworld')\n",
        "\n",
        "tuner.search(X_train, y_train, epochs=10, validation_split=0.2)\n",
        "\n",
        "best_hps = tuner.get_best_hyperparameters(num_trials=1)[0]\n"
      ],
      "metadata": {
        "id": "KukNyhFfKzJM",
        "colab": {
          "base_uri": "https://localhost:8080/"
        },
        "outputId": "447fa2c6-1ffa-489c-eeec-9c8f3e45555f"
      },
      "execution_count": 16,
      "outputs": [
        {
          "output_type": "stream",
          "name": "stdout",
          "text": [
            "Trial 10 Complete [00h 00m 23s]\n",
            "val_accuracy: 0.510937511920929\n",
            "\n",
            "Best val_accuracy So Far: 0.516406238079071\n",
            "Total elapsed time: 00h 03m 27s\n"
          ]
        }
      ]
    },
    {
      "cell_type": "code",
      "source": [
        "from sklearn.metrics import roc_curve, auc\n",
        "\n",
        "model = tuner.hypermodel.build(best_hps)\n",
        "history = model.fit(X_train, y_train, epochs=50, validation_split=0.2)\n",
        "y_pred = model.predict(X_test).ravel()\n",
        "y_pred_class = (y_pred > 0.5).astype(\"int32\")\n",
        "\n",
        "accuracy = accuracy_score(y_test, y_pred_class)\n",
        "precision = precision_score(y_test, y_pred_class)\n",
        "recall = recall_score(y_test, y_pred_class)\n",
        "f1 = f1_score(y_test, y_pred_class)\n",
        "roc_auc = roc_auc_score(y_test, y_pred)\n",
        "\n",
        "print(f\"Accuracy: {accuracy:.4f}\")\n",
        "print(f\"Precision: {precision:.4f}\")\n",
        "print(f\"Recall: {recall:.4f}\")\n",
        "print(f\"F1-Score: {f1:.4f}\")\n",
        "print(f\"ROC-AUC: {roc_auc:.4f}\")\n",
        "\n",
        "cm = confusion_matrix(y_test, y_pred_class)\n",
        "print(\"Confusion Matrix:\\n\", cm)\n",
        "\n",
        "precision_vals, recall_vals, thresholds = precision_recall_curve(y_test, y_pred)\n",
        "plt.figure(figsize=(10, 5))\n",
        "\n",
        "plt.subplot(1, 2, 1)\n",
        "plt.plot(recall_vals, precision_vals, marker='.', label='Precision-Recall curve')\n",
        "plt.xlabel('Recall')\n",
        "plt.ylabel('Precision')\n",
        "plt.title('Precision-Recall Curve')\n",
        "plt.legend()\n",
        "\n",
        "fpr, tpr, _ = roc_curve(y_test, y_pred)\n",
        "roc_auc_val = auc(fpr, tpr)\n",
        "\n",
        "plt.subplot(1, 2, 2)\n",
        "plt.plot(fpr, tpr, color='darkorange', lw=2, label=f'ROC curve (area = {roc_auc_val:.2f})')\n",
        "plt.plot([0, 1], [0, 1], color='navy', lw=2, linestyle='--')\n",
        "plt.xlim([0.0, 1.0])\n",
        "plt.ylim([0.0, 1.05])\n",
        "plt.xlabel('False Positive Rate')\n",
        "plt.ylabel('True Positive Rate')\n",
        "plt.title('Receiver Operating Characteristic (ROC-AUC)')\n",
        "plt.legend(loc=\"lower right\")\n",
        "\n",
        "plt.tight_layout()\n",
        "plt.show()"
      ],
      "metadata": {
        "colab": {
          "base_uri": "https://localhost:8080/",
          "height": 1000
        },
        "id": "ikB75zpnK8cW",
        "outputId": "b419e822-da42-4e7d-cc80-f5b3c29b927d"
      },
      "execution_count": 17,
      "outputs": [
        {
          "output_type": "stream",
          "name": "stdout",
          "text": [
            "Epoch 1/50\n",
            "160/160 [==============================] - 2s 8ms/step - loss: 0.6933 - accuracy: 0.4891 - val_loss: 0.6929 - val_accuracy: 0.5211\n",
            "Epoch 2/50\n",
            "160/160 [==============================] - 1s 5ms/step - loss: 0.6929 - accuracy: 0.5076 - val_loss: 0.6929 - val_accuracy: 0.5047\n",
            "Epoch 3/50\n",
            "160/160 [==============================] - 1s 5ms/step - loss: 0.6925 - accuracy: 0.5309 - val_loss: 0.6929 - val_accuracy: 0.5063\n",
            "Epoch 4/50\n",
            "160/160 [==============================] - 1s 7ms/step - loss: 0.6921 - accuracy: 0.5312 - val_loss: 0.6930 - val_accuracy: 0.5094\n",
            "Epoch 5/50\n",
            "160/160 [==============================] - 1s 8ms/step - loss: 0.6917 - accuracy: 0.5437 - val_loss: 0.6930 - val_accuracy: 0.5109\n",
            "Epoch 6/50\n",
            "160/160 [==============================] - 1s 5ms/step - loss: 0.6913 - accuracy: 0.5455 - val_loss: 0.6930 - val_accuracy: 0.5078\n",
            "Epoch 7/50\n",
            "160/160 [==============================] - 1s 5ms/step - loss: 0.6909 - accuracy: 0.5500 - val_loss: 0.6930 - val_accuracy: 0.5180\n",
            "Epoch 8/50\n",
            "160/160 [==============================] - 1s 5ms/step - loss: 0.6906 - accuracy: 0.5576 - val_loss: 0.6930 - val_accuracy: 0.5094\n",
            "Epoch 9/50\n",
            "160/160 [==============================] - 1s 5ms/step - loss: 0.6902 - accuracy: 0.5617 - val_loss: 0.6931 - val_accuracy: 0.5063\n",
            "Epoch 10/50\n",
            "160/160 [==============================] - 1s 5ms/step - loss: 0.6898 - accuracy: 0.5568 - val_loss: 0.6931 - val_accuracy: 0.5117\n",
            "Epoch 11/50\n",
            "160/160 [==============================] - 1s 5ms/step - loss: 0.6894 - accuracy: 0.5670 - val_loss: 0.6931 - val_accuracy: 0.5125\n",
            "Epoch 12/50\n",
            "160/160 [==============================] - 1s 5ms/step - loss: 0.6890 - accuracy: 0.5682 - val_loss: 0.6932 - val_accuracy: 0.5133\n",
            "Epoch 13/50\n",
            "160/160 [==============================] - 1s 5ms/step - loss: 0.6886 - accuracy: 0.5711 - val_loss: 0.6932 - val_accuracy: 0.5156\n",
            "Epoch 14/50\n",
            "160/160 [==============================] - 1s 5ms/step - loss: 0.6882 - accuracy: 0.5727 - val_loss: 0.6932 - val_accuracy: 0.5156\n",
            "Epoch 15/50\n",
            "160/160 [==============================] - 1s 5ms/step - loss: 0.6878 - accuracy: 0.5809 - val_loss: 0.6933 - val_accuracy: 0.5156\n",
            "Epoch 16/50\n",
            "160/160 [==============================] - 1s 5ms/step - loss: 0.6873 - accuracy: 0.5820 - val_loss: 0.6933 - val_accuracy: 0.5172\n",
            "Epoch 17/50\n",
            "160/160 [==============================] - 1s 5ms/step - loss: 0.6869 - accuracy: 0.5791 - val_loss: 0.6933 - val_accuracy: 0.5180\n",
            "Epoch 18/50\n",
            "160/160 [==============================] - 1s 7ms/step - loss: 0.6862 - accuracy: 0.5854 - val_loss: 0.6934 - val_accuracy: 0.4906\n",
            "Epoch 19/50\n",
            "160/160 [==============================] - 1s 7ms/step - loss: 0.6859 - accuracy: 0.5820 - val_loss: 0.6934 - val_accuracy: 0.5125\n",
            "Epoch 20/50\n",
            "160/160 [==============================] - 1s 5ms/step - loss: 0.6854 - accuracy: 0.5904 - val_loss: 0.6935 - val_accuracy: 0.5164\n",
            "Epoch 21/50\n",
            "160/160 [==============================] - 1s 5ms/step - loss: 0.6848 - accuracy: 0.5912 - val_loss: 0.6935 - val_accuracy: 0.5141\n",
            "Epoch 22/50\n",
            "160/160 [==============================] - 1s 6ms/step - loss: 0.6842 - accuracy: 0.5920 - val_loss: 0.6936 - val_accuracy: 0.5141\n",
            "Epoch 23/50\n",
            "160/160 [==============================] - 1s 5ms/step - loss: 0.6836 - accuracy: 0.6006 - val_loss: 0.6936 - val_accuracy: 0.5156\n",
            "Epoch 24/50\n",
            "160/160 [==============================] - 1s 5ms/step - loss: 0.6829 - accuracy: 0.6018 - val_loss: 0.6937 - val_accuracy: 0.5180\n",
            "Epoch 25/50\n",
            "160/160 [==============================] - 1s 5ms/step - loss: 0.6822 - accuracy: 0.6115 - val_loss: 0.6937 - val_accuracy: 0.5133\n",
            "Epoch 26/50\n",
            "160/160 [==============================] - 1s 5ms/step - loss: 0.6815 - accuracy: 0.6125 - val_loss: 0.6938 - val_accuracy: 0.5148\n",
            "Epoch 27/50\n",
            "160/160 [==============================] - 1s 5ms/step - loss: 0.6806 - accuracy: 0.6186 - val_loss: 0.6939 - val_accuracy: 0.5180\n",
            "Epoch 28/50\n",
            "160/160 [==============================] - 1s 6ms/step - loss: 0.6798 - accuracy: 0.6205 - val_loss: 0.6939 - val_accuracy: 0.5172\n",
            "Epoch 29/50\n",
            "160/160 [==============================] - 1s 5ms/step - loss: 0.6789 - accuracy: 0.6232 - val_loss: 0.6940 - val_accuracy: 0.5227\n",
            "Epoch 30/50\n",
            "160/160 [==============================] - 1s 6ms/step - loss: 0.6779 - accuracy: 0.6359 - val_loss: 0.6941 - val_accuracy: 0.5078\n",
            "Epoch 31/50\n",
            "160/160 [==============================] - 1s 7ms/step - loss: 0.6769 - accuracy: 0.6285 - val_loss: 0.6943 - val_accuracy: 0.5227\n",
            "Epoch 32/50\n",
            "160/160 [==============================] - 1s 8ms/step - loss: 0.6755 - accuracy: 0.6340 - val_loss: 0.6941 - val_accuracy: 0.5078\n",
            "Epoch 33/50\n",
            "160/160 [==============================] - 1s 6ms/step - loss: 0.6746 - accuracy: 0.6408 - val_loss: 0.6942 - val_accuracy: 0.5172\n",
            "Epoch 34/50\n",
            "160/160 [==============================] - 1s 5ms/step - loss: 0.6732 - accuracy: 0.6525 - val_loss: 0.6945 - val_accuracy: 0.5102\n",
            "Epoch 35/50\n",
            "160/160 [==============================] - 1s 5ms/step - loss: 0.6719 - accuracy: 0.6639 - val_loss: 0.6944 - val_accuracy: 0.5141\n",
            "Epoch 36/50\n",
            "160/160 [==============================] - 1s 6ms/step - loss: 0.6703 - accuracy: 0.6793 - val_loss: 0.6944 - val_accuracy: 0.5195\n",
            "Epoch 37/50\n",
            "160/160 [==============================] - 1s 6ms/step - loss: 0.6686 - accuracy: 0.6820 - val_loss: 0.6946 - val_accuracy: 0.5086\n",
            "Epoch 38/50\n",
            "160/160 [==============================] - 1s 6ms/step - loss: 0.6666 - accuracy: 0.6832 - val_loss: 0.6948 - val_accuracy: 0.5203\n",
            "Epoch 39/50\n",
            "160/160 [==============================] - 1s 5ms/step - loss: 0.6648 - accuracy: 0.6996 - val_loss: 0.6950 - val_accuracy: 0.5188\n",
            "Epoch 40/50\n",
            "160/160 [==============================] - 1s 5ms/step - loss: 0.6625 - accuracy: 0.7104 - val_loss: 0.6950 - val_accuracy: 0.5180\n",
            "Epoch 41/50\n",
            "160/160 [==============================] - 1s 5ms/step - loss: 0.6600 - accuracy: 0.7211 - val_loss: 0.6948 - val_accuracy: 0.5078\n",
            "Epoch 42/50\n",
            "160/160 [==============================] - 1s 5ms/step - loss: 0.6572 - accuracy: 0.7311 - val_loss: 0.6952 - val_accuracy: 0.5203\n",
            "Epoch 43/50\n",
            "160/160 [==============================] - 1s 5ms/step - loss: 0.6542 - accuracy: 0.7373 - val_loss: 0.6951 - val_accuracy: 0.5102\n",
            "Epoch 44/50\n",
            "160/160 [==============================] - 1s 6ms/step - loss: 0.6507 - accuracy: 0.7463 - val_loss: 0.6953 - val_accuracy: 0.5125\n",
            "Epoch 45/50\n",
            "160/160 [==============================] - 1s 7ms/step - loss: 0.6472 - accuracy: 0.7619 - val_loss: 0.6952 - val_accuracy: 0.5094\n",
            "Epoch 46/50\n",
            "160/160 [==============================] - 1s 6ms/step - loss: 0.6429 - accuracy: 0.7750 - val_loss: 0.6956 - val_accuracy: 0.5109\n",
            "Epoch 47/50\n",
            "160/160 [==============================] - 1s 5ms/step - loss: 0.6377 - accuracy: 0.7725 - val_loss: 0.6973 - val_accuracy: 0.5008\n",
            "Epoch 48/50\n",
            "160/160 [==============================] - 1s 5ms/step - loss: 0.6331 - accuracy: 0.7971 - val_loss: 0.6966 - val_accuracy: 0.5063\n",
            "Epoch 49/50\n",
            "160/160 [==============================] - 1s 5ms/step - loss: 0.6274 - accuracy: 0.8002 - val_loss: 0.6973 - val_accuracy: 0.5070\n",
            "Epoch 50/50\n",
            "160/160 [==============================] - 1s 5ms/step - loss: 0.6212 - accuracy: 0.8236 - val_loss: 0.6982 - val_accuracy: 0.5141\n",
            "50/50 [==============================] - 0s 3ms/step\n",
            "Accuracy: 0.5250\n",
            "Precision: 0.5291\n",
            "Recall: 0.5291\n",
            "F1-Score: 0.5291\n",
            "ROC-AUC: 0.5100\n",
            "Confusion Matrix:\n",
            " [[413 380]\n",
            " [380 427]]\n"
          ]
        },
        {
          "output_type": "display_data",
          "data": {
            "text/plain": [
              "<Figure size 1000x500 with 2 Axes>"
            ],
            "image/png": "[encoded data removed]"
          },
          "metadata": {}
        }
      ]
    }
  ]
}